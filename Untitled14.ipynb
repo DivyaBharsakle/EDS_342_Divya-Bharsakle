{
  "nbformat": 4,
  "nbformat_minor": 0,
  "metadata": {
    "colab": {
      "provenance": [],
      "authorship_tag": "ABX9TyMp8oCQtqeRyojjs1uJXKp2",
      "include_colab_link": true
    },
    "kernelspec": {
      "name": "python3",
      "display_name": "Python 3"
    },
    "language_info": {
      "name": "python"
    }
  },
  "cells": [
    {
      "cell_type": "markdown",
      "metadata": {
        "id": "view-in-github",
        "colab_type": "text"
      },
      "source": [
        "<a href=\"https://colab.research.google.com/github/DivyaBharsakle/EDS_342_Divya-Bharsakle/blob/main/Untitled14.ipynb\" target=\"_parent\"><img src=\"https://colab.research.google.com/assets/colab-badge.svg\" alt=\"Open In Colab\"/></a>"
      ]
    },
    {
      "cell_type": "code",
      "execution_count": null,
      "metadata": {
        "colab": {
          "base_uri": "https://localhost:8080/"
        },
        "id": "Eu8jdcmnQo8i",
        "outputId": "5b6d5201-68ac-43ba-afe5-41819999b6d6"
      },
      "outputs": [
        {
          "output_type": "stream",
          "name": "stdout",
          "text": [
            "  Course  Credits\n",
            "0    SIC        4\n",
            "1     DT        3\n",
            "2    EDS        2\n",
            "3    ENG        4\n"
          ]
        }
      ],
      "source": [
        "import pandas as pd\n",
        "data={\n",
        "    \"Course\":[\"SIC\",\"DT\",\"EDS\",\"ENG\"],\n",
        "    \"Credits\":[4,3,2,4]\n",
        "}\n",
        "\n",
        "df=pd.DataFrame(data)\n",
        "print(df)"
      ]
    },
    {
      "cell_type": "code",
      "source": [
        "import pandas as pd\n",
        "data={\n",
        "    \"City\":[\"Pune\",\"DT\",\"EDS\",\"ENG\"],\n",
        "    \"Temperature\":[4,3,2,4]\n",
        "}\n",
        "\n",
        "df=pd.DataFrame(data)\n",
        "print(df)"
      ],
      "metadata": {
        "id": "gSChUxSeShDx"
      },
      "execution_count": null,
      "outputs": []
    },
    {
      "cell_type": "code",
      "source": [
        "import pandas as pd\n",
        "df=pd.read_json(\"/content/gh.js\")\n",
        "print(df)"
      ],
      "metadata": {
        "colab": {
          "base_uri": "https://localhost:8080/"
        },
        "id": "vN5RJGBCV5Rd",
        "outputId": "d8b9c92c-5339-44f2-f161-4db29d29bfc6"
      },
      "execution_count": null,
      "outputs": [
        {
          "output_type": "stream",
          "name": "stdout",
          "text": [
            "   SIC  EDS  DT\n",
            "0   60  110  63\n",
            "1   60  117  45\n",
            "2   60  103  35\n",
            "3   45  109  75\n",
            "4   45  117  48\n",
            "5   60  102  65\n"
          ]
        }
      ]
    },
    {
      "cell_type": "code",
      "source": [],
      "metadata": {
        "id": "xQcu7tISZPFM"
      },
      "execution_count": null,
      "outputs": []
    }
  ]
}