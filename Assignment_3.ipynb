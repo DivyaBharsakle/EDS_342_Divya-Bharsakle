{
  "nbformat": 4,
  "nbformat_minor": 0,
  "metadata": {
    "colab": {
      "provenance": [],
      "authorship_tag": "ABX9TyNqRiC6Lyaql56zQAmauvMR",
      "include_colab_link": true
    },
    "kernelspec": {
      "name": "python3",
      "display_name": "Python 3"
    },
    "language_info": {
      "name": "python"
    }
  },
  "cells": [
    {
      "cell_type": "markdown",
      "metadata": {
        "id": "view-in-github",
        "colab_type": "text"
      },
      "source": [
        "<a href=\"https://colab.research.google.com/github/DivyaBharsakle/EDS_342_Divya-Bharsakle/blob/main/Assignment_3.ipynb\" target=\"_parent\"><img src=\"https://colab.research.google.com/assets/colab-badge.svg\" alt=\"Open In Colab\"/></a>"
      ]
    },
    {
      "cell_type": "code",
      "execution_count": null,
      "metadata": {
        "id": "lllGrzd5Dkxa"
      },
      "outputs": [],
      "source": [
        "import numpy as np"
      ]
    },
    {
      "cell_type": "code",
      "source": [
        "array1=np.array([[1,2,3],[4,5,6],[7,8,9]])\n",
        "array1"
      ],
      "metadata": {
        "colab": {
          "base_uri": "https://localhost:8080/"
        },
        "id": "ukV-n4J-D1gR",
        "outputId": "7f0c2f0a-bf5a-4d95-bdb1-fdabceec6cfe"
      },
      "execution_count": null,
      "outputs": [
        {
          "output_type": "execute_result",
          "data": {
            "text/plain": [
              "array([[1, 2, 3],\n",
              "       [4, 5, 6],\n",
              "       [7, 8, 9]])"
            ]
          },
          "metadata": {},
          "execution_count": 2
        }
      ]
    },
    {
      "cell_type": "code",
      "source": [
        "array2=np.array([[10,11,12],[13,14,15],[16,17,18]])\n",
        "array2"
      ],
      "metadata": {
        "colab": {
          "base_uri": "https://localhost:8080/"
        },
        "id": "std-RXhHEHYv",
        "outputId": "579ede78-7581-4249-9458-ae521924df58"
      },
      "execution_count": null,
      "outputs": [
        {
          "output_type": "execute_result",
          "data": {
            "text/plain": [
              "array([[10, 11, 12],\n",
              "       [13, 14, 15],\n",
              "       [16, 17, 18]])"
            ]
          },
          "metadata": {},
          "execution_count": 3
        }
      ]
    },
    {
      "cell_type": "code",
      "source": [
        "array1\n",
        "array2\n",
        "print(\"\\nAddition of two matrices: \")\n",
        "print(np.add(array1,array2))"
      ],
      "metadata": {
        "colab": {
          "base_uri": "https://localhost:8080/"
        },
        "id": "IpdNkeAFET7X",
        "outputId": "3202265d-2e11-4c84-bb81-18243236abd7"
      },
      "execution_count": null,
      "outputs": [
        {
          "output_type": "stream",
          "name": "stdout",
          "text": [
            "\n",
            "Addition of two matrices: \n",
            "[[11 13 15]\n",
            " [17 19 21]\n",
            " [23 25 27]]\n"
          ]
        }
      ]
    },
    {
      "cell_type": "code",
      "source": [
        "array1\n",
        "array2\n",
        "print(\"\\nSubtraction of two matrices: \")\n",
        "print(np.subtract(array1,array2))"
      ],
      "metadata": {
        "colab": {
          "base_uri": "https://localhost:8080/"
        },
        "id": "GddFyy5-FNFw",
        "outputId": "8f5da84d-79ba-4c89-df7d-b8450ac0a9cf"
      },
      "execution_count": null,
      "outputs": [
        {
          "output_type": "stream",
          "name": "stdout",
          "text": [
            "\n",
            "Subtraction of two matrices: \n",
            "[[-9 -9 -9]\n",
            " [-9 -9 -9]\n",
            " [-9 -9 -9]]\n"
          ]
        }
      ]
    },
    {
      "cell_type": "code",
      "source": [
        "array1\n",
        "array2\n",
        "print(\"\\nDivision of two matrices: \")\n",
        "print(np.divide(array1,array2))"
      ],
      "metadata": {
        "colab": {
          "base_uri": "https://localhost:8080/"
        },
        "id": "2Lu9lR0WFt0n",
        "outputId": "3a00a872-056e-4121-a963-1644daafec56"
      },
      "execution_count": null,
      "outputs": [
        {
          "output_type": "stream",
          "name": "stdout",
          "text": [
            "\n",
            "Division of two matrices: \n",
            "[[0.1        0.18181818 0.25      ]\n",
            " [0.30769231 0.35714286 0.4       ]\n",
            " [0.4375     0.47058824 0.5       ]]\n"
          ]
        }
      ]
    },
    {
      "cell_type": "code",
      "source": [
        "array1\n",
        "array2\n",
        "print(\"\\nMultiplication of two matrices: \")\n",
        "print(np.multiply(array1,array2))"
      ],
      "metadata": {
        "colab": {
          "base_uri": "https://localhost:8080/"
        },
        "id": "cczUE6O1F5kg",
        "outputId": "556cc729-f5b5-4b73-f1dc-b962802fdc6b"
      },
      "execution_count": null,
      "outputs": [
        {
          "output_type": "stream",
          "name": "stdout",
          "text": [
            "\n",
            "Multiplication of two matrices: \n",
            "[[ 10  22  36]\n",
            " [ 52  70  90]\n",
            " [112 136 162]]\n"
          ]
        }
      ]
    }
  ]
}