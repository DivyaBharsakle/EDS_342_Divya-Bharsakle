{
  "cells": [
    {
      "cell_type": "markdown",
      "metadata": {
        "id": "view-in-github",
        "colab_type": "text"
      },
      "source": [
        "<a href=\"https://colab.research.google.com/github/DivyaBharsakle/EDS_342_Divya-Bharsakle/blob/main/Untitled0.ipynb\" target=\"_parent\"><img src=\"https://colab.research.google.com/assets/colab-badge.svg\" alt=\"Open In Colab\"/></a>"
      ]
    },
    {
      "cell_type": "code",
      "execution_count": null,
      "metadata": {
        "colab": {
          "base_uri": "https://localhost:8080/"
        },
        "id": "voAlqWbFPpdD",
        "outputId": "8095877a-1312-49be-f34e-cefa4ec6b2a1"
      },
      "outputs": [
        {
          "name": "stdout",
          "output_type": "stream",
          "text": [
            "3.857142857142857\n"
          ]
        }
      ],
      "source": [
        "import statistics\n",
        "l1= [1,2,3,5,6,7,3]\n",
        "print(statistics.mean(l1))"
      ]
    },
    {
      "cell_type": "code",
      "source": [
        "select 0,1,2,3\n",
        "select 0,2,4,6\n",
        "select 0,3,6,9\n",
        "[\n",
        "    [1,2,3,4,5,6],\n",
        "    [l1,l2,l3,l4,l5,l6],\n",
        "    [21,22,23,24,25,26],\n",
        "    [31,32,33,34,35,36],\n",
        "    [41,42,43,44,45,46],\n",
        "    [51,52,53,54,55,56],\n",
        "],\n",
        "[\n",
        "\n",
        "]"
      ],
      "metadata": {
        "id": "jb2JzqOzRKiD"
      },
      "execution_count": null,
      "outputs": []
    },
    {
      "cell_type": "code",
      "execution_count": null,
      "metadata": {
        "colab": {
          "base_uri": "https://localhost:8080/"
        },
        "id": "7y6brDZFRDWy",
        "outputId": "0c0cf910-5fc1-42d3-e33b-50bce14993ff"
      },
      "outputs": [
        {
          "name": "stdout",
          "output_type": "stream",
          "text": [
            "23.5\n"
          ]
        }
      ],
      "source": [
        "from statistics import median\n",
        "t1=(24,23,4,76)\n",
        "print(median(t1))"
      ]
    },
    {
      "cell_type": "code",
      "execution_count": null,
      "metadata": {
        "colab": {
          "base_uri": "https://localhost:8080/"
        },
        "id": "07AWqNLKRcW8",
        "outputId": "37965778-5bff-4be7-d645-e586a793a839"
      },
      "outputs": [
        {
          "name": "stdout",
          "output_type": "stream",
          "text": [
            "low median of the set is % s 5\n"
          ]
        }
      ],
      "source": [
        "import statistics\n",
        "set1=[1,2,5,7,9,5]\n",
        "print(\"low median of the set is % s\",(statistics.median_low(set1)))"
      ]
    },
    {
      "cell_type": "code",
      "execution_count": null,
      "metadata": {
        "colab": {
          "base_uri": "https://localhost:8080/"
        },
        "id": "q-FvP4TSR1Xj",
        "outputId": "5f3bc30e-05e6-4110-b662-0173b41e60e3"
      },
      "outputs": [
        {
          "name": "stdout",
          "output_type": "stream",
          "text": [
            "4.25\n"
          ]
        }
      ],
      "source": [
        "import statistics\n",
        "l1=[1,2,3,4,5,5,5,9]\n",
        "print(statistics.mean(l1))"
      ]
    },
    {
      "cell_type": "code",
      "execution_count": null,
      "metadata": {
        "colab": {
          "base_uri": "https://localhost:8080/"
        },
        "id": "yXqBTLWaSMGM",
        "outputId": "97ebd516-a8ba-463f-a1d7-297ab62cd58f"
      },
      "outputs": [
        {
          "name": "stdout",
          "output_type": "stream",
          "text": [
            "40.0\n"
          ]
        }
      ],
      "source": [
        "from statistics import median\n",
        "t1=(21,24,56,89)\n",
        "print(median(t1))"
      ]
    },
    {
      "cell_type": "code",
      "execution_count": null,
      "metadata": {
        "colab": {
          "base_uri": "https://localhost:8080/"
        },
        "id": "DdIkOYZLSheI",
        "outputId": "c7c9cf0d-efb4-4633-e606-9f77539d2b10"
      },
      "outputs": [
        {
          "name": "stdout",
          "output_type": "stream",
          "text": [
            "median of the set is %s 5.5\n"
          ]
        }
      ],
      "source": [
        "import statistics\n",
        "set1=[1,3,5,6,7,9]\n",
        "print(\"median of the set is %s\",(statistics.median(set1)))"
      ]
    },
    {
      "cell_type": "code",
      "execution_count": null,
      "metadata": {
        "colab": {
          "base_uri": "https://localhost:8080/"
        },
        "id": "G2j4nnc2TK9T",
        "outputId": "fb7a1c86-dcc4-427f-c7cf-541092021e66"
      },
      "outputs": [
        {
          "name": "stdout",
          "output_type": "stream",
          "text": [
            "mode of data set 1 is 4\n"
          ]
        }
      ],
      "source": [
        "from statistics import mode\n",
        "t1=(2,3,4,4,4,4,6)\n",
        "print(\"mode of data set 1 is %s\"%(mode(t1)))"
      ]
    },
    {
      "cell_type": "code",
      "execution_count": null,
      "metadata": {
        "colab": {
          "base_uri": "https://localhost:8080/"
        },
        "id": "z6fzwMlTTiAY",
        "outputId": "6d7387b3-effb-446c-f309-023c93187cbe"
      },
      "outputs": [
        {
          "name": "stdout",
          "output_type": "stream",
          "text": [
            "maximum=5,minimum=1 and range=4\n"
          ]
        }
      ],
      "source": [
        "arr=[1,2,3,4,5]\n",
        "maximum=max(arr)\n",
        "minimum=min(arr)\n",
        "range=maximum-minimum\n",
        "print(\"maximum={},minimum={} and range={}\".format(maximum,minimum,range))"
      ]
    },
    {
      "cell_type": "code",
      "execution_count": null,
      "metadata": {
        "colab": {
          "base_uri": "https://localhost:8080/"
        },
        "id": "1fD-gQzlUYE6",
        "outputId": "5529896f-7f3e-41dc-9b0f-e496fa78891a"
      },
      "outputs": [
        {
          "name": "stdout",
          "output_type": "stream",
          "text": [
            "variance of sample1 is %s 15.80952380952381\n"
          ]
        }
      ],
      "source": [
        "from statistics import variance\n",
        "t1=(1,2,5,4,8,9,12)\n",
        "print(\"variance of sample1 is %s\",(variance(t1)))"
      ]
    },
    {
      "cell_type": "code",
      "execution_count": null,
      "metadata": {
        "colab": {
          "base_uri": "https://localhost:8080/"
        },
        "id": "g1iDa2kWVAMN",
        "outputId": "27d59c7d-9065-48a0-ae93-ebf0152fdf95"
      },
      "outputs": [
        {
          "name": "stdout",
          "output_type": "stream",
          "text": [
            "the standard deviation of sample1 is % s 3.9761191895520196\n"
          ]
        }
      ],
      "source": [
        "from statistics import stdev\n",
        "s1=(1,2,5,4,8,9,12)\n",
        "print(\"the standard deviation of sample1 is % s\",(stdev(s1)))"
      ]
    },
    {
      "cell_type": "code",
      "execution_count": null,
      "metadata": {
        "colab": {
          "base_uri": "https://localhost:8080/"
        },
        "id": "Vva_I9Arl5JE",
        "outputId": "99d356e8-1094-4392-e4bb-60c4183a2c33"
      },
      "outputs": [
        {
          "name": "stdout",
          "output_type": "stream",
          "text": [
            "  Employee Name  Employee ID  Salary\n",
            "0        Sakshi          101     800\n",
            "1        Aditya          102     800\n",
            "2         Omkar          103     800\n",
            "3         Onkar          104     900\n",
            "4       Srushti          105     900\n",
            "5        Anshul          106     900\n",
            "6         Sneha          107     900\n",
            "7        Pravin          108     900\n",
            "8          Ojas          109     900\n",
            "9     Vaishnavi          110     900\n",
            "\n",
            "      Employee Name  Employee ID           Birthdate   Age\n",
            "0   1        Sakshi          101  2003-04-12 00:00:00   19\n",
            "1   2        Aditya          102           24/03/2004   19\n",
            "2   3         Omkar          103  2004-05-05 00:00:00   18\n",
            "3   4         Onkar          104           25/07/2003   19\n",
            "4   5       Srushti          105  2004-07-03 00:00:00   19\n",
            "5   6        Anshul          106           28/12/2003   19\n",
            "6   7         Sneha          107  2003-08-12 00:00:00   19\n",
            "7   8        Pravin          108           19/11/2005   17\n",
            "8   9          Ojas          109           20/10/2003   19\n",
            "9  10     Vaishnavi          110  2005-02-03 00:00:00   17\n"
          ]
        }
      ],
      "source": [
        "import pandas as pd\n",
        "df=pd.read_excel(r'/content/drive/MyDrive/employee sheet.xlsx')\n",
        "print(df)\n",
        "print(\"\")\n",
        "df1=pd.read_excel(r'/content/drive/MyDrive/Copy of salary sheet  (1).xlsx')\n",
        "print(df1)"
      ]
    },
    {
      "cell_type": "code",
      "source": [],
      "metadata": {
        "id": "O8pJiqnt7s7m"
      },
      "execution_count": null,
      "outputs": []
    },
    {
      "cell_type": "code",
      "execution_count": null,
      "metadata": {
        "colab": {
          "base_uri": "https://localhost:8080/",
          "height": 709
        },
        "id": "5CnsticfpdLR",
        "outputId": "32806220-edf4-42a6-af20-d93bc8dcc544"
      },
      "outputs": [
        {
          "data": {
            "text/html": [
              "\n",
              "  <div id=\"df-9803b603-1a2c-4ceb-8c54-c27d68f56a74\">\n",
              "    <div class=\"colab-df-container\">\n",
              "      <div>\n",
              "<style scoped>\n",
              "    .dataframe tbody tr th:only-of-type {\n",
              "        vertical-align: middle;\n",
              "    }\n",
              "\n",
              "    .dataframe tbody tr th {\n",
              "        vertical-align: top;\n",
              "    }\n",
              "\n",
              "    .dataframe thead th {\n",
              "        text-align: right;\n",
              "    }\n",
              "</style>\n",
              "<table border=\"1\" class=\"dataframe\">\n",
              "  <thead>\n",
              "    <tr style=\"text-align: right;\">\n",
              "      <th></th>\n",
              "      <th>Employee Name</th>\n",
              "      <th>Employee ID</th>\n",
              "      <th>Salary</th>\n",
              "    </tr>\n",
              "  </thead>\n",
              "  <tbody>\n",
              "    <tr>\n",
              "      <th>0</th>\n",
              "      <td>Sakshi</td>\n",
              "      <td>101</td>\n",
              "      <td>800</td>\n",
              "    </tr>\n",
              "    <tr>\n",
              "      <th>1</th>\n",
              "      <td>Aditya</td>\n",
              "      <td>102</td>\n",
              "      <td>800</td>\n",
              "    </tr>\n",
              "    <tr>\n",
              "      <th>2</th>\n",
              "      <td>Omkar</td>\n",
              "      <td>103</td>\n",
              "      <td>800</td>\n",
              "    </tr>\n",
              "    <tr>\n",
              "      <th>3</th>\n",
              "      <td>Onkar</td>\n",
              "      <td>104</td>\n",
              "      <td>900</td>\n",
              "    </tr>\n",
              "    <tr>\n",
              "      <th>4</th>\n",
              "      <td>Srushti</td>\n",
              "      <td>105</td>\n",
              "      <td>900</td>\n",
              "    </tr>\n",
              "    <tr>\n",
              "      <th>5</th>\n",
              "      <td>Anshul</td>\n",
              "      <td>106</td>\n",
              "      <td>900</td>\n",
              "    </tr>\n",
              "    <tr>\n",
              "      <th>6</th>\n",
              "      <td>Sneha</td>\n",
              "      <td>107</td>\n",
              "      <td>900</td>\n",
              "    </tr>\n",
              "    <tr>\n",
              "      <th>7</th>\n",
              "      <td>Pravin</td>\n",
              "      <td>108</td>\n",
              "      <td>900</td>\n",
              "    </tr>\n",
              "    <tr>\n",
              "      <th>8</th>\n",
              "      <td>Ojas</td>\n",
              "      <td>109</td>\n",
              "      <td>900</td>\n",
              "    </tr>\n",
              "    <tr>\n",
              "      <th>9</th>\n",
              "      <td>Vaishnavi</td>\n",
              "      <td>110</td>\n",
              "      <td>900</td>\n",
              "    </tr>\n",
              "  </tbody>\n",
              "</table>\n",
              "</div>\n",
              "      <button class=\"colab-df-convert\" onclick=\"convertToInteractive('df-9803b603-1a2c-4ceb-8c54-c27d68f56a74')\"\n",
              "              title=\"Convert this dataframe to an interactive table.\"\n",
              "              style=\"display:none;\">\n",
              "        \n",
              "  <svg xmlns=\"http://www.w3.org/2000/svg\" height=\"24px\"viewBox=\"0 0 24 24\"\n",
              "       width=\"24px\">\n",
              "    <path d=\"M0 0h24v24H0V0z\" fill=\"none\"/>\n",
              "    <path d=\"M18.56 5.44l.94 2.06.94-2.06 2.06-.94-2.06-.94-.94-2.06-.94 2.06-2.06.94zm-11 1L8.5 8.5l.94-2.06 2.06-.94-2.06-.94L8.5 2.5l-.94 2.06-2.06.94zm10 10l.94 2.06.94-2.06 2.06-.94-2.06-.94-.94-2.06-.94 2.06-2.06.94z\"/><path d=\"M17.41 7.96l-1.37-1.37c-.4-.4-.92-.59-1.43-.59-.52 0-1.04.2-1.43.59L10.3 9.45l-7.72 7.72c-.78.78-.78 2.05 0 2.83L4 21.41c.39.39.9.59 1.41.59.51 0 1.02-.2 1.41-.59l7.78-7.78 2.81-2.81c.8-.78.8-2.07 0-2.86zM5.41 20L4 18.59l7.72-7.72 1.47 1.35L5.41 20z\"/>\n",
              "  </svg>\n",
              "      </button>\n",
              "      \n",
              "  <style>\n",
              "    .colab-df-container {\n",
              "      display:flex;\n",
              "      flex-wrap:wrap;\n",
              "      gap: 12px;\n",
              "    }\n",
              "\n",
              "    .colab-df-convert {\n",
              "      background-color: #E8F0FE;\n",
              "      border: none;\n",
              "      border-radius: 50%;\n",
              "      cursor: pointer;\n",
              "      display: none;\n",
              "      fill: #1967D2;\n",
              "      height: 32px;\n",
              "      padding: 0 0 0 0;\n",
              "      width: 32px;\n",
              "    }\n",
              "\n",
              "    .colab-df-convert:hover {\n",
              "      background-color: #E2EBFA;\n",
              "      box-shadow: 0px 1px 2px rgba(60, 64, 67, 0.3), 0px 1px 3px 1px rgba(60, 64, 67, 0.15);\n",
              "      fill: #174EA6;\n",
              "    }\n",
              "\n",
              "    [theme=dark] .colab-df-convert {\n",
              "      background-color: #3B4455;\n",
              "      fill: #D2E3FC;\n",
              "    }\n",
              "\n",
              "    [theme=dark] .colab-df-convert:hover {\n",
              "      background-color: #434B5C;\n",
              "      box-shadow: 0px 1px 3px 1px rgba(0, 0, 0, 0.15);\n",
              "      filter: drop-shadow(0px 1px 2px rgba(0, 0, 0, 0.3));\n",
              "      fill: #FFFFFF;\n",
              "    }\n",
              "  </style>\n",
              "\n",
              "      <script>\n",
              "        const buttonEl =\n",
              "          document.querySelector('#df-9803b603-1a2c-4ceb-8c54-c27d68f56a74 button.colab-df-convert');\n",
              "        buttonEl.style.display =\n",
              "          google.colab.kernel.accessAllowed ? 'block' : 'none';\n",
              "\n",
              "        async function convertToInteractive(key) {\n",
              "          const element = document.querySelector('#df-9803b603-1a2c-4ceb-8c54-c27d68f56a74');\n",
              "          const dataTable =\n",
              "            await google.colab.kernel.invokeFunction('convertToInteractive',\n",
              "                                                     [key], {});\n",
              "          if (!dataTable) return;\n",
              "\n",
              "          const docLinkHtml = 'Like what you see? Visit the ' +\n",
              "            '<a target=\"_blank\" href=https://colab.research.google.com/notebooks/data_table.ipynb>data table notebook</a>'\n",
              "            + ' to learn more about interactive tables.';\n",
              "          element.innerHTML = '';\n",
              "          dataTable['output_type'] = 'display_data';\n",
              "          await google.colab.output.renderOutput(dataTable, element);\n",
              "          const docLink = document.createElement('div');\n",
              "          docLink.innerHTML = docLinkHtml;\n",
              "          element.appendChild(docLink);\n",
              "        }\n",
              "      </script>\n",
              "    </div>\n",
              "  </div>\n",
              "  "
            ],
            "text/plain": [
              "  Employee Name  Employee ID  Salary\n",
              "0        Sakshi          101     800\n",
              "1        Aditya          102     800\n",
              "2         Omkar          103     800\n",
              "3         Onkar          104     900\n",
              "4       Srushti          105     900\n",
              "5        Anshul          106     900\n",
              "6         Sneha          107     900\n",
              "7        Pravin          108     900\n",
              "8          Ojas          109     900\n",
              "9     Vaishnavi          110     900"
            ]
          },
          "metadata": {},
          "output_type": "display_data"
        },
        {
          "data": {
            "text/html": [
              "\n",
              "  <div id=\"df-bdd5a49f-c36a-4304-aa62-cdc64a2ab14a\">\n",
              "    <div class=\"colab-df-container\">\n",
              "      <div>\n",
              "<style scoped>\n",
              "    .dataframe tbody tr th:only-of-type {\n",
              "        vertical-align: middle;\n",
              "    }\n",
              "\n",
              "    .dataframe tbody tr th {\n",
              "        vertical-align: top;\n",
              "    }\n",
              "\n",
              "    .dataframe thead th {\n",
              "        text-align: right;\n",
              "    }\n",
              "</style>\n",
              "<table border=\"1\" class=\"dataframe\">\n",
              "  <thead>\n",
              "    <tr style=\"text-align: right;\">\n",
              "      <th></th>\n",
              "      <th></th>\n",
              "      <th>Employee Name</th>\n",
              "      <th>Employee ID</th>\n",
              "      <th>Birthdate</th>\n",
              "      <th>Age</th>\n",
              "    </tr>\n",
              "  </thead>\n",
              "  <tbody>\n",
              "    <tr>\n",
              "      <th>0</th>\n",
              "      <td>1</td>\n",
              "      <td>Sakshi</td>\n",
              "      <td>101</td>\n",
              "      <td>2003-04-12 00:00:00</td>\n",
              "      <td>19</td>\n",
              "    </tr>\n",
              "    <tr>\n",
              "      <th>1</th>\n",
              "      <td>2</td>\n",
              "      <td>Aditya</td>\n",
              "      <td>102</td>\n",
              "      <td>24/03/2004</td>\n",
              "      <td>19</td>\n",
              "    </tr>\n",
              "    <tr>\n",
              "      <th>2</th>\n",
              "      <td>3</td>\n",
              "      <td>Omkar</td>\n",
              "      <td>103</td>\n",
              "      <td>2004-05-05 00:00:00</td>\n",
              "      <td>18</td>\n",
              "    </tr>\n",
              "    <tr>\n",
              "      <th>3</th>\n",
              "      <td>4</td>\n",
              "      <td>Onkar</td>\n",
              "      <td>104</td>\n",
              "      <td>25/07/2003</td>\n",
              "      <td>19</td>\n",
              "    </tr>\n",
              "    <tr>\n",
              "      <th>4</th>\n",
              "      <td>5</td>\n",
              "      <td>Srushti</td>\n",
              "      <td>105</td>\n",
              "      <td>2004-07-03 00:00:00</td>\n",
              "      <td>19</td>\n",
              "    </tr>\n",
              "    <tr>\n",
              "      <th>5</th>\n",
              "      <td>6</td>\n",
              "      <td>Anshul</td>\n",
              "      <td>106</td>\n",
              "      <td>28/12/2003</td>\n",
              "      <td>19</td>\n",
              "    </tr>\n",
              "    <tr>\n",
              "      <th>6</th>\n",
              "      <td>7</td>\n",
              "      <td>Sneha</td>\n",
              "      <td>107</td>\n",
              "      <td>2003-08-12 00:00:00</td>\n",
              "      <td>19</td>\n",
              "    </tr>\n",
              "    <tr>\n",
              "      <th>7</th>\n",
              "      <td>8</td>\n",
              "      <td>Pravin</td>\n",
              "      <td>108</td>\n",
              "      <td>19/11/2005</td>\n",
              "      <td>17</td>\n",
              "    </tr>\n",
              "    <tr>\n",
              "      <th>8</th>\n",
              "      <td>9</td>\n",
              "      <td>Ojas</td>\n",
              "      <td>109</td>\n",
              "      <td>20/10/2003</td>\n",
              "      <td>19</td>\n",
              "    </tr>\n",
              "    <tr>\n",
              "      <th>9</th>\n",
              "      <td>10</td>\n",
              "      <td>Vaishnavi</td>\n",
              "      <td>110</td>\n",
              "      <td>2005-02-03 00:00:00</td>\n",
              "      <td>17</td>\n",
              "    </tr>\n",
              "  </tbody>\n",
              "</table>\n",
              "</div>\n",
              "      <button class=\"colab-df-convert\" onclick=\"convertToInteractive('df-bdd5a49f-c36a-4304-aa62-cdc64a2ab14a')\"\n",
              "              title=\"Convert this dataframe to an interactive table.\"\n",
              "              style=\"display:none;\">\n",
              "        \n",
              "  <svg xmlns=\"http://www.w3.org/2000/svg\" height=\"24px\"viewBox=\"0 0 24 24\"\n",
              "       width=\"24px\">\n",
              "    <path d=\"M0 0h24v24H0V0z\" fill=\"none\"/>\n",
              "    <path d=\"M18.56 5.44l.94 2.06.94-2.06 2.06-.94-2.06-.94-.94-2.06-.94 2.06-2.06.94zm-11 1L8.5 8.5l.94-2.06 2.06-.94-2.06-.94L8.5 2.5l-.94 2.06-2.06.94zm10 10l.94 2.06.94-2.06 2.06-.94-2.06-.94-.94-2.06-.94 2.06-2.06.94z\"/><path d=\"M17.41 7.96l-1.37-1.37c-.4-.4-.92-.59-1.43-.59-.52 0-1.04.2-1.43.59L10.3 9.45l-7.72 7.72c-.78.78-.78 2.05 0 2.83L4 21.41c.39.39.9.59 1.41.59.51 0 1.02-.2 1.41-.59l7.78-7.78 2.81-2.81c.8-.78.8-2.07 0-2.86zM5.41 20L4 18.59l7.72-7.72 1.47 1.35L5.41 20z\"/>\n",
              "  </svg>\n",
              "      </button>\n",
              "      \n",
              "  <style>\n",
              "    .colab-df-container {\n",
              "      display:flex;\n",
              "      flex-wrap:wrap;\n",
              "      gap: 12px;\n",
              "    }\n",
              "\n",
              "    .colab-df-convert {\n",
              "      background-color: #E8F0FE;\n",
              "      border: none;\n",
              "      border-radius: 50%;\n",
              "      cursor: pointer;\n",
              "      display: none;\n",
              "      fill: #1967D2;\n",
              "      height: 32px;\n",
              "      padding: 0 0 0 0;\n",
              "      width: 32px;\n",
              "    }\n",
              "\n",
              "    .colab-df-convert:hover {\n",
              "      background-color: #E2EBFA;\n",
              "      box-shadow: 0px 1px 2px rgba(60, 64, 67, 0.3), 0px 1px 3px 1px rgba(60, 64, 67, 0.15);\n",
              "      fill: #174EA6;\n",
              "    }\n",
              "\n",
              "    [theme=dark] .colab-df-convert {\n",
              "      background-color: #3B4455;\n",
              "      fill: #D2E3FC;\n",
              "    }\n",
              "\n",
              "    [theme=dark] .colab-df-convert:hover {\n",
              "      background-color: #434B5C;\n",
              "      box-shadow: 0px 1px 3px 1px rgba(0, 0, 0, 0.15);\n",
              "      filter: drop-shadow(0px 1px 2px rgba(0, 0, 0, 0.3));\n",
              "      fill: #FFFFFF;\n",
              "    }\n",
              "  </style>\n",
              "\n",
              "      <script>\n",
              "        const buttonEl =\n",
              "          document.querySelector('#df-bdd5a49f-c36a-4304-aa62-cdc64a2ab14a button.colab-df-convert');\n",
              "        buttonEl.style.display =\n",
              "          google.colab.kernel.accessAllowed ? 'block' : 'none';\n",
              "\n",
              "        async function convertToInteractive(key) {\n",
              "          const element = document.querySelector('#df-bdd5a49f-c36a-4304-aa62-cdc64a2ab14a');\n",
              "          const dataTable =\n",
              "            await google.colab.kernel.invokeFunction('convertToInteractive',\n",
              "                                                     [key], {});\n",
              "          if (!dataTable) return;\n",
              "\n",
              "          const docLinkHtml = 'Like what you see? Visit the ' +\n",
              "            '<a target=\"_blank\" href=https://colab.research.google.com/notebooks/data_table.ipynb>data table notebook</a>'\n",
              "            + ' to learn more about interactive tables.';\n",
              "          element.innerHTML = '';\n",
              "          dataTable['output_type'] = 'display_data';\n",
              "          await google.colab.output.renderOutput(dataTable, element);\n",
              "          const docLink = document.createElement('div');\n",
              "          docLink.innerHTML = docLinkHtml;\n",
              "          element.appendChild(docLink);\n",
              "        }\n",
              "      </script>\n",
              "    </div>\n",
              "  </div>\n",
              "  "
            ],
            "text/plain": [
              "      Employee Name  Employee ID           Birthdate   Age\n",
              "0   1        Sakshi          101  2003-04-12 00:00:00   19\n",
              "1   2        Aditya          102           24/03/2004   19\n",
              "2   3         Omkar          103  2004-05-05 00:00:00   18\n",
              "3   4         Onkar          104           25/07/2003   19\n",
              "4   5       Srushti          105  2004-07-03 00:00:00   19\n",
              "5   6        Anshul          106           28/12/2003   19\n",
              "6   7         Sneha          107  2003-08-12 00:00:00   19\n",
              "7   8        Pravin          108           19/11/2005   17\n",
              "8   9          Ojas          109           20/10/2003   19\n",
              "9  10     Vaishnavi          110  2005-02-03 00:00:00   17"
            ]
          },
          "metadata": {},
          "output_type": "display_data"
        }
      ],
      "source": [
        "display(df,df1)"
      ]
    },
    {
      "cell_type": "code",
      "execution_count": null,
      "metadata": {
        "colab": {
          "base_uri": "https://localhost:8080/",
          "height": 363
        },
        "id": "I6lOGRVcDeSu",
        "outputId": "38735a03-9072-4c17-bdbc-390de04d7bd2"
      },
      "outputs": [
        {
          "data": {
            "text/html": [
              "\n",
              "  <div id=\"df-62cf6d54-966c-4a39-98fc-eb654017b07e\">\n",
              "    <div class=\"colab-df-container\">\n",
              "      <div>\n",
              "<style scoped>\n",
              "    .dataframe tbody tr th:only-of-type {\n",
              "        vertical-align: middle;\n",
              "    }\n",
              "\n",
              "    .dataframe tbody tr th {\n",
              "        vertical-align: top;\n",
              "    }\n",
              "\n",
              "    .dataframe thead th {\n",
              "        text-align: right;\n",
              "    }\n",
              "</style>\n",
              "<table border=\"1\" class=\"dataframe\">\n",
              "  <thead>\n",
              "    <tr style=\"text-align: right;\">\n",
              "      <th></th>\n",
              "      <th>Employee Name</th>\n",
              "      <th>Employee ID</th>\n",
              "      <th>Salary</th>\n",
              "    </tr>\n",
              "  </thead>\n",
              "  <tbody>\n",
              "    <tr>\n",
              "      <th>0</th>\n",
              "      <td>Sakshi</td>\n",
              "      <td>101</td>\n",
              "      <td>800</td>\n",
              "    </tr>\n",
              "    <tr>\n",
              "      <th>1</th>\n",
              "      <td>Aditya</td>\n",
              "      <td>102</td>\n",
              "      <td>800</td>\n",
              "    </tr>\n",
              "    <tr>\n",
              "      <th>2</th>\n",
              "      <td>Omkar</td>\n",
              "      <td>103</td>\n",
              "      <td>800</td>\n",
              "    </tr>\n",
              "    <tr>\n",
              "      <th>3</th>\n",
              "      <td>Onkar</td>\n",
              "      <td>104</td>\n",
              "      <td>900</td>\n",
              "    </tr>\n",
              "    <tr>\n",
              "      <th>4</th>\n",
              "      <td>Srushti</td>\n",
              "      <td>105</td>\n",
              "      <td>900</td>\n",
              "    </tr>\n",
              "    <tr>\n",
              "      <th>5</th>\n",
              "      <td>Anshul</td>\n",
              "      <td>106</td>\n",
              "      <td>900</td>\n",
              "    </tr>\n",
              "    <tr>\n",
              "      <th>6</th>\n",
              "      <td>Sneha</td>\n",
              "      <td>107</td>\n",
              "      <td>900</td>\n",
              "    </tr>\n",
              "    <tr>\n",
              "      <th>7</th>\n",
              "      <td>Pravin</td>\n",
              "      <td>108</td>\n",
              "      <td>900</td>\n",
              "    </tr>\n",
              "    <tr>\n",
              "      <th>8</th>\n",
              "      <td>Ojas</td>\n",
              "      <td>109</td>\n",
              "      <td>900</td>\n",
              "    </tr>\n",
              "    <tr>\n",
              "      <th>9</th>\n",
              "      <td>Vaishnavi</td>\n",
              "      <td>110</td>\n",
              "      <td>900</td>\n",
              "    </tr>\n",
              "  </tbody>\n",
              "</table>\n",
              "</div>\n",
              "      <button class=\"colab-df-convert\" onclick=\"convertToInteractive('df-62cf6d54-966c-4a39-98fc-eb654017b07e')\"\n",
              "              title=\"Convert this dataframe to an interactive table.\"\n",
              "              style=\"display:none;\">\n",
              "        \n",
              "  <svg xmlns=\"http://www.w3.org/2000/svg\" height=\"24px\"viewBox=\"0 0 24 24\"\n",
              "       width=\"24px\">\n",
              "    <path d=\"M0 0h24v24H0V0z\" fill=\"none\"/>\n",
              "    <path d=\"M18.56 5.44l.94 2.06.94-2.06 2.06-.94-2.06-.94-.94-2.06-.94 2.06-2.06.94zm-11 1L8.5 8.5l.94-2.06 2.06-.94-2.06-.94L8.5 2.5l-.94 2.06-2.06.94zm10 10l.94 2.06.94-2.06 2.06-.94-2.06-.94-.94-2.06-.94 2.06-2.06.94z\"/><path d=\"M17.41 7.96l-1.37-1.37c-.4-.4-.92-.59-1.43-.59-.52 0-1.04.2-1.43.59L10.3 9.45l-7.72 7.72c-.78.78-.78 2.05 0 2.83L4 21.41c.39.39.9.59 1.41.59.51 0 1.02-.2 1.41-.59l7.78-7.78 2.81-2.81c.8-.78.8-2.07 0-2.86zM5.41 20L4 18.59l7.72-7.72 1.47 1.35L5.41 20z\"/>\n",
              "  </svg>\n",
              "      </button>\n",
              "      \n",
              "  <style>\n",
              "    .colab-df-container {\n",
              "      display:flex;\n",
              "      flex-wrap:wrap;\n",
              "      gap: 12px;\n",
              "    }\n",
              "\n",
              "    .colab-df-convert {\n",
              "      background-color: #E8F0FE;\n",
              "      border: none;\n",
              "      border-radius: 50%;\n",
              "      cursor: pointer;\n",
              "      display: none;\n",
              "      fill: #1967D2;\n",
              "      height: 32px;\n",
              "      padding: 0 0 0 0;\n",
              "      width: 32px;\n",
              "    }\n",
              "\n",
              "    .colab-df-convert:hover {\n",
              "      background-color: #E2EBFA;\n",
              "      box-shadow: 0px 1px 2px rgba(60, 64, 67, 0.3), 0px 1px 3px 1px rgba(60, 64, 67, 0.15);\n",
              "      fill: #174EA6;\n",
              "    }\n",
              "\n",
              "    [theme=dark] .colab-df-convert {\n",
              "      background-color: #3B4455;\n",
              "      fill: #D2E3FC;\n",
              "    }\n",
              "\n",
              "    [theme=dark] .colab-df-convert:hover {\n",
              "      background-color: #434B5C;\n",
              "      box-shadow: 0px 1px 3px 1px rgba(0, 0, 0, 0.15);\n",
              "      filter: drop-shadow(0px 1px 2px rgba(0, 0, 0, 0.3));\n",
              "      fill: #FFFFFF;\n",
              "    }\n",
              "  </style>\n",
              "\n",
              "      <script>\n",
              "        const buttonEl =\n",
              "          document.querySelector('#df-62cf6d54-966c-4a39-98fc-eb654017b07e button.colab-df-convert');\n",
              "        buttonEl.style.display =\n",
              "          google.colab.kernel.accessAllowed ? 'block' : 'none';\n",
              "\n",
              "        async function convertToInteractive(key) {\n",
              "          const element = document.querySelector('#df-62cf6d54-966c-4a39-98fc-eb654017b07e');\n",
              "          const dataTable =\n",
              "            await google.colab.kernel.invokeFunction('convertToInteractive',\n",
              "                                                     [key], {});\n",
              "          if (!dataTable) return;\n",
              "\n",
              "          const docLinkHtml = 'Like what you see? Visit the ' +\n",
              "            '<a target=\"_blank\" href=https://colab.research.google.com/notebooks/data_table.ipynb>data table notebook</a>'\n",
              "            + ' to learn more about interactive tables.';\n",
              "          element.innerHTML = '';\n",
              "          dataTable['output_type'] = 'display_data';\n",
              "          await google.colab.output.renderOutput(dataTable, element);\n",
              "          const docLink = document.createElement('div');\n",
              "          docLink.innerHTML = docLinkHtml;\n",
              "          element.appendChild(docLink);\n",
              "        }\n",
              "      </script>\n",
              "    </div>\n",
              "  </div>\n",
              "  "
            ],
            "text/plain": [
              "  Employee Name  Employee ID  Salary\n",
              "0        Sakshi          101     800\n",
              "1        Aditya          102     800\n",
              "2         Omkar          103     800\n",
              "3         Onkar          104     900\n",
              "4       Srushti          105     900\n",
              "5        Anshul          106     900\n",
              "6         Sneha          107     900\n",
              "7        Pravin          108     900\n",
              "8          Ojas          109     900\n",
              "9     Vaishnavi          110     900"
            ]
          },
          "execution_count": 12,
          "metadata": {},
          "output_type": "execute_result"
        }
      ],
      "source": [
        "import pandas as pd\n",
        "df.sort_values(by=['Salary'])"
      ]
    },
    {
      "cell_type": "code",
      "execution_count": null,
      "metadata": {
        "colab": {
          "base_uri": "https://localhost:8080/",
          "height": 363
        },
        "id": "_xWRpB30Iz4Y",
        "outputId": "8a853787-e70b-4b40-ba59-f70d5bd38517"
      },
      "outputs": [
        {
          "data": {
            "text/html": [
              "\n",
              "  <div id=\"df-3add735a-9358-4cab-83e1-a90eb99d6c29\">\n",
              "    <div class=\"colab-df-container\">\n",
              "      <div>\n",
              "<style scoped>\n",
              "    .dataframe tbody tr th:only-of-type {\n",
              "        vertical-align: middle;\n",
              "    }\n",
              "\n",
              "    .dataframe tbody tr th {\n",
              "        vertical-align: top;\n",
              "    }\n",
              "\n",
              "    .dataframe thead th {\n",
              "        text-align: right;\n",
              "    }\n",
              "</style>\n",
              "<table border=\"1\" class=\"dataframe\">\n",
              "  <thead>\n",
              "    <tr style=\"text-align: right;\">\n",
              "      <th></th>\n",
              "      <th>Employee Name</th>\n",
              "      <th>Employee ID</th>\n",
              "      <th>Salary</th>\n",
              "    </tr>\n",
              "  </thead>\n",
              "  <tbody>\n",
              "    <tr>\n",
              "      <th>3</th>\n",
              "      <td>Onkar</td>\n",
              "      <td>104</td>\n",
              "      <td>900</td>\n",
              "    </tr>\n",
              "    <tr>\n",
              "      <th>4</th>\n",
              "      <td>Srushti</td>\n",
              "      <td>105</td>\n",
              "      <td>900</td>\n",
              "    </tr>\n",
              "    <tr>\n",
              "      <th>5</th>\n",
              "      <td>Anshul</td>\n",
              "      <td>106</td>\n",
              "      <td>900</td>\n",
              "    </tr>\n",
              "    <tr>\n",
              "      <th>6</th>\n",
              "      <td>Sneha</td>\n",
              "      <td>107</td>\n",
              "      <td>900</td>\n",
              "    </tr>\n",
              "    <tr>\n",
              "      <th>7</th>\n",
              "      <td>Pravin</td>\n",
              "      <td>108</td>\n",
              "      <td>900</td>\n",
              "    </tr>\n",
              "    <tr>\n",
              "      <th>8</th>\n",
              "      <td>Ojas</td>\n",
              "      <td>109</td>\n",
              "      <td>900</td>\n",
              "    </tr>\n",
              "    <tr>\n",
              "      <th>9</th>\n",
              "      <td>Vaishnavi</td>\n",
              "      <td>110</td>\n",
              "      <td>900</td>\n",
              "    </tr>\n",
              "    <tr>\n",
              "      <th>0</th>\n",
              "      <td>Sakshi</td>\n",
              "      <td>101</td>\n",
              "      <td>800</td>\n",
              "    </tr>\n",
              "    <tr>\n",
              "      <th>1</th>\n",
              "      <td>Aditya</td>\n",
              "      <td>102</td>\n",
              "      <td>800</td>\n",
              "    </tr>\n",
              "    <tr>\n",
              "      <th>2</th>\n",
              "      <td>Omkar</td>\n",
              "      <td>103</td>\n",
              "      <td>800</td>\n",
              "    </tr>\n",
              "  </tbody>\n",
              "</table>\n",
              "</div>\n",
              "      <button class=\"colab-df-convert\" onclick=\"convertToInteractive('df-3add735a-9358-4cab-83e1-a90eb99d6c29')\"\n",
              "              title=\"Convert this dataframe to an interactive table.\"\n",
              "              style=\"display:none;\">\n",
              "        \n",
              "  <svg xmlns=\"http://www.w3.org/2000/svg\" height=\"24px\"viewBox=\"0 0 24 24\"\n",
              "       width=\"24px\">\n",
              "    <path d=\"M0 0h24v24H0V0z\" fill=\"none\"/>\n",
              "    <path d=\"M18.56 5.44l.94 2.06.94-2.06 2.06-.94-2.06-.94-.94-2.06-.94 2.06-2.06.94zm-11 1L8.5 8.5l.94-2.06 2.06-.94-2.06-.94L8.5 2.5l-.94 2.06-2.06.94zm10 10l.94 2.06.94-2.06 2.06-.94-2.06-.94-.94-2.06-.94 2.06-2.06.94z\"/><path d=\"M17.41 7.96l-1.37-1.37c-.4-.4-.92-.59-1.43-.59-.52 0-1.04.2-1.43.59L10.3 9.45l-7.72 7.72c-.78.78-.78 2.05 0 2.83L4 21.41c.39.39.9.59 1.41.59.51 0 1.02-.2 1.41-.59l7.78-7.78 2.81-2.81c.8-.78.8-2.07 0-2.86zM5.41 20L4 18.59l7.72-7.72 1.47 1.35L5.41 20z\"/>\n",
              "  </svg>\n",
              "      </button>\n",
              "      \n",
              "  <style>\n",
              "    .colab-df-container {\n",
              "      display:flex;\n",
              "      flex-wrap:wrap;\n",
              "      gap: 12px;\n",
              "    }\n",
              "\n",
              "    .colab-df-convert {\n",
              "      background-color: #E8F0FE;\n",
              "      border: none;\n",
              "      border-radius: 50%;\n",
              "      cursor: pointer;\n",
              "      display: none;\n",
              "      fill: #1967D2;\n",
              "      height: 32px;\n",
              "      padding: 0 0 0 0;\n",
              "      width: 32px;\n",
              "    }\n",
              "\n",
              "    .colab-df-convert:hover {\n",
              "      background-color: #E2EBFA;\n",
              "      box-shadow: 0px 1px 2px rgba(60, 64, 67, 0.3), 0px 1px 3px 1px rgba(60, 64, 67, 0.15);\n",
              "      fill: #174EA6;\n",
              "    }\n",
              "\n",
              "    [theme=dark] .colab-df-convert {\n",
              "      background-color: #3B4455;\n",
              "      fill: #D2E3FC;\n",
              "    }\n",
              "\n",
              "    [theme=dark] .colab-df-convert:hover {\n",
              "      background-color: #434B5C;\n",
              "      box-shadow: 0px 1px 3px 1px rgba(0, 0, 0, 0.15);\n",
              "      filter: drop-shadow(0px 1px 2px rgba(0, 0, 0, 0.3));\n",
              "      fill: #FFFFFF;\n",
              "    }\n",
              "  </style>\n",
              "\n",
              "      <script>\n",
              "        const buttonEl =\n",
              "          document.querySelector('#df-3add735a-9358-4cab-83e1-a90eb99d6c29 button.colab-df-convert');\n",
              "        buttonEl.style.display =\n",
              "          google.colab.kernel.accessAllowed ? 'block' : 'none';\n",
              "\n",
              "        async function convertToInteractive(key) {\n",
              "          const element = document.querySelector('#df-3add735a-9358-4cab-83e1-a90eb99d6c29');\n",
              "          const dataTable =\n",
              "            await google.colab.kernel.invokeFunction('convertToInteractive',\n",
              "                                                     [key], {});\n",
              "          if (!dataTable) return;\n",
              "\n",
              "          const docLinkHtml = 'Like what you see? Visit the ' +\n",
              "            '<a target=\"_blank\" href=https://colab.research.google.com/notebooks/data_table.ipynb>data table notebook</a>'\n",
              "            + ' to learn more about interactive tables.';\n",
              "          element.innerHTML = '';\n",
              "          dataTable['output_type'] = 'display_data';\n",
              "          await google.colab.output.renderOutput(dataTable, element);\n",
              "          const docLink = document.createElement('div');\n",
              "          docLink.innerHTML = docLinkHtml;\n",
              "          element.appendChild(docLink);\n",
              "        }\n",
              "      </script>\n",
              "    </div>\n",
              "  </div>\n",
              "  "
            ],
            "text/plain": [
              "  Employee Name  Employee ID  Salary\n",
              "3         Onkar          104     900\n",
              "4       Srushti          105     900\n",
              "5        Anshul          106     900\n",
              "6         Sneha          107     900\n",
              "7        Pravin          108     900\n",
              "8          Ojas          109     900\n",
              "9     Vaishnavi          110     900\n",
              "0        Sakshi          101     800\n",
              "1        Aditya          102     800\n",
              "2         Omkar          103     800"
            ]
          },
          "execution_count": 13,
          "metadata": {},
          "output_type": "execute_result"
        }
      ],
      "source": [
        "df.sort_values(by=['Salary'], ascending=False)"
      ]
    },
    {
      "cell_type": "code",
      "execution_count": null,
      "metadata": {
        "colab": {
          "base_uri": "https://localhost:8080/",
          "height": 709
        },
        "id": "I0vFAoEbJCTX",
        "outputId": "38e00d2f-42c4-4ce1-eabe-b948af14dabf"
      },
      "outputs": [
        {
          "data": {
            "text/html": [
              "\n",
              "  <div id=\"df-8d208737-fccf-424f-a697-fdec4e80b522\">\n",
              "    <div class=\"colab-df-container\">\n",
              "      <div>\n",
              "<style scoped>\n",
              "    .dataframe tbody tr th:only-of-type {\n",
              "        vertical-align: middle;\n",
              "    }\n",
              "\n",
              "    .dataframe tbody tr th {\n",
              "        vertical-align: top;\n",
              "    }\n",
              "\n",
              "    .dataframe thead th {\n",
              "        text-align: right;\n",
              "    }\n",
              "</style>\n",
              "<table border=\"1\" class=\"dataframe\">\n",
              "  <thead>\n",
              "    <tr style=\"text-align: right;\">\n",
              "      <th></th>\n",
              "      <th>Employee Name</th>\n",
              "      <th>Employee ID</th>\n",
              "      <th>Salary</th>\n",
              "    </tr>\n",
              "  </thead>\n",
              "  <tbody>\n",
              "    <tr>\n",
              "      <th>0</th>\n",
              "      <td>Sakshi</td>\n",
              "      <td>101</td>\n",
              "      <td>800</td>\n",
              "    </tr>\n",
              "    <tr>\n",
              "      <th>1</th>\n",
              "      <td>Aditya</td>\n",
              "      <td>102</td>\n",
              "      <td>800</td>\n",
              "    </tr>\n",
              "    <tr>\n",
              "      <th>2</th>\n",
              "      <td>Omkar</td>\n",
              "      <td>103</td>\n",
              "      <td>800</td>\n",
              "    </tr>\n",
              "    <tr>\n",
              "      <th>3</th>\n",
              "      <td>Onkar</td>\n",
              "      <td>104</td>\n",
              "      <td>900</td>\n",
              "    </tr>\n",
              "    <tr>\n",
              "      <th>4</th>\n",
              "      <td>Srushti</td>\n",
              "      <td>105</td>\n",
              "      <td>900</td>\n",
              "    </tr>\n",
              "    <tr>\n",
              "      <th>5</th>\n",
              "      <td>Anshul</td>\n",
              "      <td>106</td>\n",
              "      <td>900</td>\n",
              "    </tr>\n",
              "    <tr>\n",
              "      <th>6</th>\n",
              "      <td>Sneha</td>\n",
              "      <td>107</td>\n",
              "      <td>900</td>\n",
              "    </tr>\n",
              "    <tr>\n",
              "      <th>7</th>\n",
              "      <td>Pravin</td>\n",
              "      <td>108</td>\n",
              "      <td>900</td>\n",
              "    </tr>\n",
              "    <tr>\n",
              "      <th>8</th>\n",
              "      <td>Ojas</td>\n",
              "      <td>109</td>\n",
              "      <td>900</td>\n",
              "    </tr>\n",
              "    <tr>\n",
              "      <th>9</th>\n",
              "      <td>Vaishnavi</td>\n",
              "      <td>110</td>\n",
              "      <td>900</td>\n",
              "    </tr>\n",
              "  </tbody>\n",
              "</table>\n",
              "</div>\n",
              "      <button class=\"colab-df-convert\" onclick=\"convertToInteractive('df-8d208737-fccf-424f-a697-fdec4e80b522')\"\n",
              "              title=\"Convert this dataframe to an interactive table.\"\n",
              "              style=\"display:none;\">\n",
              "        \n",
              "  <svg xmlns=\"http://www.w3.org/2000/svg\" height=\"24px\"viewBox=\"0 0 24 24\"\n",
              "       width=\"24px\">\n",
              "    <path d=\"M0 0h24v24H0V0z\" fill=\"none\"/>\n",
              "    <path d=\"M18.56 5.44l.94 2.06.94-2.06 2.06-.94-2.06-.94-.94-2.06-.94 2.06-2.06.94zm-11 1L8.5 8.5l.94-2.06 2.06-.94-2.06-.94L8.5 2.5l-.94 2.06-2.06.94zm10 10l.94 2.06.94-2.06 2.06-.94-2.06-.94-.94-2.06-.94 2.06-2.06.94z\"/><path d=\"M17.41 7.96l-1.37-1.37c-.4-.4-.92-.59-1.43-.59-.52 0-1.04.2-1.43.59L10.3 9.45l-7.72 7.72c-.78.78-.78 2.05 0 2.83L4 21.41c.39.39.9.59 1.41.59.51 0 1.02-.2 1.41-.59l7.78-7.78 2.81-2.81c.8-.78.8-2.07 0-2.86zM5.41 20L4 18.59l7.72-7.72 1.47 1.35L5.41 20z\"/>\n",
              "  </svg>\n",
              "      </button>\n",
              "      \n",
              "  <style>\n",
              "    .colab-df-container {\n",
              "      display:flex;\n",
              "      flex-wrap:wrap;\n",
              "      gap: 12px;\n",
              "    }\n",
              "\n",
              "    .colab-df-convert {\n",
              "      background-color: #E8F0FE;\n",
              "      border: none;\n",
              "      border-radius: 50%;\n",
              "      cursor: pointer;\n",
              "      display: none;\n",
              "      fill: #1967D2;\n",
              "      height: 32px;\n",
              "      padding: 0 0 0 0;\n",
              "      width: 32px;\n",
              "    }\n",
              "\n",
              "    .colab-df-convert:hover {\n",
              "      background-color: #E2EBFA;\n",
              "      box-shadow: 0px 1px 2px rgba(60, 64, 67, 0.3), 0px 1px 3px 1px rgba(60, 64, 67, 0.15);\n",
              "      fill: #174EA6;\n",
              "    }\n",
              "\n",
              "    [theme=dark] .colab-df-convert {\n",
              "      background-color: #3B4455;\n",
              "      fill: #D2E3FC;\n",
              "    }\n",
              "\n",
              "    [theme=dark] .colab-df-convert:hover {\n",
              "      background-color: #434B5C;\n",
              "      box-shadow: 0px 1px 3px 1px rgba(0, 0, 0, 0.15);\n",
              "      filter: drop-shadow(0px 1px 2px rgba(0, 0, 0, 0.3));\n",
              "      fill: #FFFFFF;\n",
              "    }\n",
              "  </style>\n",
              "\n",
              "      <script>\n",
              "        const buttonEl =\n",
              "          document.querySelector('#df-8d208737-fccf-424f-a697-fdec4e80b522 button.colab-df-convert');\n",
              "        buttonEl.style.display =\n",
              "          google.colab.kernel.accessAllowed ? 'block' : 'none';\n",
              "\n",
              "        async function convertToInteractive(key) {\n",
              "          const element = document.querySelector('#df-8d208737-fccf-424f-a697-fdec4e80b522');\n",
              "          const dataTable =\n",
              "            await google.colab.kernel.invokeFunction('convertToInteractive',\n",
              "                                                     [key], {});\n",
              "          if (!dataTable) return;\n",
              "\n",
              "          const docLinkHtml = 'Like what you see? Visit the ' +\n",
              "            '<a target=\"_blank\" href=https://colab.research.google.com/notebooks/data_table.ipynb>data table notebook</a>'\n",
              "            + ' to learn more about interactive tables.';\n",
              "          element.innerHTML = '';\n",
              "          dataTable['output_type'] = 'display_data';\n",
              "          await google.colab.output.renderOutput(dataTable, element);\n",
              "          const docLink = document.createElement('div');\n",
              "          docLink.innerHTML = docLinkHtml;\n",
              "          element.appendChild(docLink);\n",
              "        }\n",
              "      </script>\n",
              "    </div>\n",
              "  </div>\n",
              "  "
            ],
            "text/plain": [
              "  Employee Name  Employee ID  Salary\n",
              "0        Sakshi          101     800\n",
              "1        Aditya          102     800\n",
              "2         Omkar          103     800\n",
              "3         Onkar          104     900\n",
              "4       Srushti          105     900\n",
              "5        Anshul          106     900\n",
              "6         Sneha          107     900\n",
              "7        Pravin          108     900\n",
              "8          Ojas          109     900\n",
              "9     Vaishnavi          110     900"
            ]
          },
          "metadata": {},
          "output_type": "display_data"
        },
        {
          "data": {
            "text/html": [
              "\n",
              "  <div id=\"df-f8d41ae5-4af0-4de4-8219-e3c82e5f171c\">\n",
              "    <div class=\"colab-df-container\">\n",
              "      <div>\n",
              "<style scoped>\n",
              "    .dataframe tbody tr th:only-of-type {\n",
              "        vertical-align: middle;\n",
              "    }\n",
              "\n",
              "    .dataframe tbody tr th {\n",
              "        vertical-align: top;\n",
              "    }\n",
              "\n",
              "    .dataframe thead th {\n",
              "        text-align: right;\n",
              "    }\n",
              "</style>\n",
              "<table border=\"1\" class=\"dataframe\">\n",
              "  <thead>\n",
              "    <tr style=\"text-align: right;\">\n",
              "      <th></th>\n",
              "      <th></th>\n",
              "      <th>Employee Name</th>\n",
              "      <th>Employee ID</th>\n",
              "      <th>Birthdate</th>\n",
              "      <th>Age</th>\n",
              "    </tr>\n",
              "  </thead>\n",
              "  <tbody>\n",
              "    <tr>\n",
              "      <th>0</th>\n",
              "      <td>1</td>\n",
              "      <td>Sakshi</td>\n",
              "      <td>101</td>\n",
              "      <td>2003-04-12 00:00:00</td>\n",
              "      <td>19</td>\n",
              "    </tr>\n",
              "    <tr>\n",
              "      <th>1</th>\n",
              "      <td>2</td>\n",
              "      <td>Aditya</td>\n",
              "      <td>102</td>\n",
              "      <td>24/03/2004</td>\n",
              "      <td>19</td>\n",
              "    </tr>\n",
              "    <tr>\n",
              "      <th>2</th>\n",
              "      <td>3</td>\n",
              "      <td>Omkar</td>\n",
              "      <td>103</td>\n",
              "      <td>2004-05-05 00:00:00</td>\n",
              "      <td>18</td>\n",
              "    </tr>\n",
              "    <tr>\n",
              "      <th>3</th>\n",
              "      <td>4</td>\n",
              "      <td>Onkar</td>\n",
              "      <td>104</td>\n",
              "      <td>25/07/2003</td>\n",
              "      <td>19</td>\n",
              "    </tr>\n",
              "    <tr>\n",
              "      <th>4</th>\n",
              "      <td>5</td>\n",
              "      <td>Srushti</td>\n",
              "      <td>105</td>\n",
              "      <td>2004-07-03 00:00:00</td>\n",
              "      <td>19</td>\n",
              "    </tr>\n",
              "    <tr>\n",
              "      <th>5</th>\n",
              "      <td>6</td>\n",
              "      <td>Anshul</td>\n",
              "      <td>106</td>\n",
              "      <td>28/12/2003</td>\n",
              "      <td>19</td>\n",
              "    </tr>\n",
              "    <tr>\n",
              "      <th>6</th>\n",
              "      <td>7</td>\n",
              "      <td>Sneha</td>\n",
              "      <td>107</td>\n",
              "      <td>2003-08-12 00:00:00</td>\n",
              "      <td>19</td>\n",
              "    </tr>\n",
              "    <tr>\n",
              "      <th>7</th>\n",
              "      <td>8</td>\n",
              "      <td>Pravin</td>\n",
              "      <td>108</td>\n",
              "      <td>19/11/2005</td>\n",
              "      <td>17</td>\n",
              "    </tr>\n",
              "    <tr>\n",
              "      <th>8</th>\n",
              "      <td>9</td>\n",
              "      <td>Ojas</td>\n",
              "      <td>109</td>\n",
              "      <td>20/10/2003</td>\n",
              "      <td>19</td>\n",
              "    </tr>\n",
              "    <tr>\n",
              "      <th>9</th>\n",
              "      <td>10</td>\n",
              "      <td>Vaishnavi</td>\n",
              "      <td>110</td>\n",
              "      <td>2005-02-03 00:00:00</td>\n",
              "      <td>17</td>\n",
              "    </tr>\n",
              "  </tbody>\n",
              "</table>\n",
              "</div>\n",
              "      <button class=\"colab-df-convert\" onclick=\"convertToInteractive('df-f8d41ae5-4af0-4de4-8219-e3c82e5f171c')\"\n",
              "              title=\"Convert this dataframe to an interactive table.\"\n",
              "              style=\"display:none;\">\n",
              "        \n",
              "  <svg xmlns=\"http://www.w3.org/2000/svg\" height=\"24px\"viewBox=\"0 0 24 24\"\n",
              "       width=\"24px\">\n",
              "    <path d=\"M0 0h24v24H0V0z\" fill=\"none\"/>\n",
              "    <path d=\"M18.56 5.44l.94 2.06.94-2.06 2.06-.94-2.06-.94-.94-2.06-.94 2.06-2.06.94zm-11 1L8.5 8.5l.94-2.06 2.06-.94-2.06-.94L8.5 2.5l-.94 2.06-2.06.94zm10 10l.94 2.06.94-2.06 2.06-.94-2.06-.94-.94-2.06-.94 2.06-2.06.94z\"/><path d=\"M17.41 7.96l-1.37-1.37c-.4-.4-.92-.59-1.43-.59-.52 0-1.04.2-1.43.59L10.3 9.45l-7.72 7.72c-.78.78-.78 2.05 0 2.83L4 21.41c.39.39.9.59 1.41.59.51 0 1.02-.2 1.41-.59l7.78-7.78 2.81-2.81c.8-.78.8-2.07 0-2.86zM5.41 20L4 18.59l7.72-7.72 1.47 1.35L5.41 20z\"/>\n",
              "  </svg>\n",
              "      </button>\n",
              "      \n",
              "  <style>\n",
              "    .colab-df-container {\n",
              "      display:flex;\n",
              "      flex-wrap:wrap;\n",
              "      gap: 12px;\n",
              "    }\n",
              "\n",
              "    .colab-df-convert {\n",
              "      background-color: #E8F0FE;\n",
              "      border: none;\n",
              "      border-radius: 50%;\n",
              "      cursor: pointer;\n",
              "      display: none;\n",
              "      fill: #1967D2;\n",
              "      height: 32px;\n",
              "      padding: 0 0 0 0;\n",
              "      width: 32px;\n",
              "    }\n",
              "\n",
              "    .colab-df-convert:hover {\n",
              "      background-color: #E2EBFA;\n",
              "      box-shadow: 0px 1px 2px rgba(60, 64, 67, 0.3), 0px 1px 3px 1px rgba(60, 64, 67, 0.15);\n",
              "      fill: #174EA6;\n",
              "    }\n",
              "\n",
              "    [theme=dark] .colab-df-convert {\n",
              "      background-color: #3B4455;\n",
              "      fill: #D2E3FC;\n",
              "    }\n",
              "\n",
              "    [theme=dark] .colab-df-convert:hover {\n",
              "      background-color: #434B5C;\n",
              "      box-shadow: 0px 1px 3px 1px rgba(0, 0, 0, 0.15);\n",
              "      filter: drop-shadow(0px 1px 2px rgba(0, 0, 0, 0.3));\n",
              "      fill: #FFFFFF;\n",
              "    }\n",
              "  </style>\n",
              "\n",
              "      <script>\n",
              "        const buttonEl =\n",
              "          document.querySelector('#df-f8d41ae5-4af0-4de4-8219-e3c82e5f171c button.colab-df-convert');\n",
              "        buttonEl.style.display =\n",
              "          google.colab.kernel.accessAllowed ? 'block' : 'none';\n",
              "\n",
              "        async function convertToInteractive(key) {\n",
              "          const element = document.querySelector('#df-f8d41ae5-4af0-4de4-8219-e3c82e5f171c');\n",
              "          const dataTable =\n",
              "            await google.colab.kernel.invokeFunction('convertToInteractive',\n",
              "                                                     [key], {});\n",
              "          if (!dataTable) return;\n",
              "\n",
              "          const docLinkHtml = 'Like what you see? Visit the ' +\n",
              "            '<a target=\"_blank\" href=https://colab.research.google.com/notebooks/data_table.ipynb>data table notebook</a>'\n",
              "            + ' to learn more about interactive tables.';\n",
              "          element.innerHTML = '';\n",
              "          dataTable['output_type'] = 'display_data';\n",
              "          await google.colab.output.renderOutput(dataTable, element);\n",
              "          const docLink = document.createElement('div');\n",
              "          docLink.innerHTML = docLinkHtml;\n",
              "          element.appendChild(docLink);\n",
              "        }\n",
              "      </script>\n",
              "    </div>\n",
              "  </div>\n",
              "  "
            ],
            "text/plain": [
              "      Employee Name  Employee ID           Birthdate   Age\n",
              "0   1        Sakshi          101  2003-04-12 00:00:00   19\n",
              "1   2        Aditya          102           24/03/2004   19\n",
              "2   3         Omkar          103  2004-05-05 00:00:00   18\n",
              "3   4         Onkar          104           25/07/2003   19\n",
              "4   5       Srushti          105  2004-07-03 00:00:00   19\n",
              "5   6        Anshul          106           28/12/2003   19\n",
              "6   7         Sneha          107  2003-08-12 00:00:00   19\n",
              "7   8        Pravin          108           19/11/2005   17\n",
              "8   9          Ojas          109           20/10/2003   19\n",
              "9  10     Vaishnavi          110  2005-02-03 00:00:00   17"
            ]
          },
          "metadata": {},
          "output_type": "display_data"
        }
      ],
      "source": [
        "display(df,df1)"
      ]
    },
    {
      "cell_type": "code",
      "execution_count": null,
      "metadata": {
        "colab": {
          "base_uri": "https://localhost:8080/"
        },
        "id": "nK1eXVILJRxv",
        "outputId": "51f396b6-0822-4e5d-e77e-d86e276e02b3"
      },
      "outputs": [
        {
          "name": "stdout",
          "output_type": "stream",
          "text": [
            "  Employee Name  Employee ID  Salary\n",
            "3         Onkar          104     900\n",
            "4       Srushti          105     900\n",
            "5        Anshul          106     900\n",
            "6         Sneha          107     900\n",
            "7        Pravin          108     900\n"
          ]
        }
      ],
      "source": [
        "def sal():\n",
        "  import pandas as pd\n",
        "  a=df.sort_values(by=['Salary'], ascending=False)\n",
        "  g=a.nlargest(5,'Salary','first')\n",
        "  print(g)\n",
        "sal()"
      ]
    },
    {
      "cell_type": "code",
      "execution_count": null,
      "metadata": {
        "colab": {
          "base_uri": "https://localhost:8080/",
          "height": 363
        },
        "id": "3sTRtOvwGMMv",
        "outputId": "14d1f3a1-b1b1-4b32-e65a-0a1b7aa1f04f"
      },
      "outputs": [
        {
          "data": {
            "text/html": [
              "\n",
              "  <div id=\"df-4c0142eb-9b00-4b44-8c9d-615309479fc2\">\n",
              "    <div class=\"colab-df-container\">\n",
              "      <div>\n",
              "<style scoped>\n",
              "    .dataframe tbody tr th:only-of-type {\n",
              "        vertical-align: middle;\n",
              "    }\n",
              "\n",
              "    .dataframe tbody tr th {\n",
              "        vertical-align: top;\n",
              "    }\n",
              "\n",
              "    .dataframe thead th {\n",
              "        text-align: right;\n",
              "    }\n",
              "</style>\n",
              "<table border=\"1\" class=\"dataframe\">\n",
              "  <thead>\n",
              "    <tr style=\"text-align: right;\">\n",
              "      <th></th>\n",
              "      <th>Employee Name</th>\n",
              "      <th>Employee ID</th>\n",
              "      <th>Salary</th>\n",
              "      <th></th>\n",
              "      <th>Birthdate</th>\n",
              "      <th>Age</th>\n",
              "    </tr>\n",
              "  </thead>\n",
              "  <tbody>\n",
              "    <tr>\n",
              "      <th>0</th>\n",
              "      <td>Sakshi</td>\n",
              "      <td>101</td>\n",
              "      <td>800</td>\n",
              "      <td>1</td>\n",
              "      <td>2003-04-12 00:00:00</td>\n",
              "      <td>19</td>\n",
              "    </tr>\n",
              "    <tr>\n",
              "      <th>1</th>\n",
              "      <td>Aditya</td>\n",
              "      <td>102</td>\n",
              "      <td>800</td>\n",
              "      <td>2</td>\n",
              "      <td>24/03/2004</td>\n",
              "      <td>19</td>\n",
              "    </tr>\n",
              "    <tr>\n",
              "      <th>2</th>\n",
              "      <td>Omkar</td>\n",
              "      <td>103</td>\n",
              "      <td>800</td>\n",
              "      <td>3</td>\n",
              "      <td>2004-05-05 00:00:00</td>\n",
              "      <td>18</td>\n",
              "    </tr>\n",
              "    <tr>\n",
              "      <th>3</th>\n",
              "      <td>Onkar</td>\n",
              "      <td>104</td>\n",
              "      <td>900</td>\n",
              "      <td>4</td>\n",
              "      <td>25/07/2003</td>\n",
              "      <td>19</td>\n",
              "    </tr>\n",
              "    <tr>\n",
              "      <th>4</th>\n",
              "      <td>Srushti</td>\n",
              "      <td>105</td>\n",
              "      <td>900</td>\n",
              "      <td>5</td>\n",
              "      <td>2004-07-03 00:00:00</td>\n",
              "      <td>19</td>\n",
              "    </tr>\n",
              "    <tr>\n",
              "      <th>5</th>\n",
              "      <td>Anshul</td>\n",
              "      <td>106</td>\n",
              "      <td>900</td>\n",
              "      <td>6</td>\n",
              "      <td>28/12/2003</td>\n",
              "      <td>19</td>\n",
              "    </tr>\n",
              "    <tr>\n",
              "      <th>6</th>\n",
              "      <td>Sneha</td>\n",
              "      <td>107</td>\n",
              "      <td>900</td>\n",
              "      <td>7</td>\n",
              "      <td>2003-08-12 00:00:00</td>\n",
              "      <td>19</td>\n",
              "    </tr>\n",
              "    <tr>\n",
              "      <th>7</th>\n",
              "      <td>Pravin</td>\n",
              "      <td>108</td>\n",
              "      <td>900</td>\n",
              "      <td>8</td>\n",
              "      <td>19/11/2005</td>\n",
              "      <td>17</td>\n",
              "    </tr>\n",
              "    <tr>\n",
              "      <th>8</th>\n",
              "      <td>Ojas</td>\n",
              "      <td>109</td>\n",
              "      <td>900</td>\n",
              "      <td>9</td>\n",
              "      <td>20/10/2003</td>\n",
              "      <td>19</td>\n",
              "    </tr>\n",
              "    <tr>\n",
              "      <th>9</th>\n",
              "      <td>Vaishnavi</td>\n",
              "      <td>110</td>\n",
              "      <td>900</td>\n",
              "      <td>10</td>\n",
              "      <td>2005-02-03 00:00:00</td>\n",
              "      <td>17</td>\n",
              "    </tr>\n",
              "  </tbody>\n",
              "</table>\n",
              "</div>\n",
              "      <button class=\"colab-df-convert\" onclick=\"convertToInteractive('df-4c0142eb-9b00-4b44-8c9d-615309479fc2')\"\n",
              "              title=\"Convert this dataframe to an interactive table.\"\n",
              "              style=\"display:none;\">\n",
              "        \n",
              "  <svg xmlns=\"http://www.w3.org/2000/svg\" height=\"24px\"viewBox=\"0 0 24 24\"\n",
              "       width=\"24px\">\n",
              "    <path d=\"M0 0h24v24H0V0z\" fill=\"none\"/>\n",
              "    <path d=\"M18.56 5.44l.94 2.06.94-2.06 2.06-.94-2.06-.94-.94-2.06-.94 2.06-2.06.94zm-11 1L8.5 8.5l.94-2.06 2.06-.94-2.06-.94L8.5 2.5l-.94 2.06-2.06.94zm10 10l.94 2.06.94-2.06 2.06-.94-2.06-.94-.94-2.06-.94 2.06-2.06.94z\"/><path d=\"M17.41 7.96l-1.37-1.37c-.4-.4-.92-.59-1.43-.59-.52 0-1.04.2-1.43.59L10.3 9.45l-7.72 7.72c-.78.78-.78 2.05 0 2.83L4 21.41c.39.39.9.59 1.41.59.51 0 1.02-.2 1.41-.59l7.78-7.78 2.81-2.81c.8-.78.8-2.07 0-2.86zM5.41 20L4 18.59l7.72-7.72 1.47 1.35L5.41 20z\"/>\n",
              "  </svg>\n",
              "      </button>\n",
              "      \n",
              "  <style>\n",
              "    .colab-df-container {\n",
              "      display:flex;\n",
              "      flex-wrap:wrap;\n",
              "      gap: 12px;\n",
              "    }\n",
              "\n",
              "    .colab-df-convert {\n",
              "      background-color: #E8F0FE;\n",
              "      border: none;\n",
              "      border-radius: 50%;\n",
              "      cursor: pointer;\n",
              "      display: none;\n",
              "      fill: #1967D2;\n",
              "      height: 32px;\n",
              "      padding: 0 0 0 0;\n",
              "      width: 32px;\n",
              "    }\n",
              "\n",
              "    .colab-df-convert:hover {\n",
              "      background-color: #E2EBFA;\n",
              "      box-shadow: 0px 1px 2px rgba(60, 64, 67, 0.3), 0px 1px 3px 1px rgba(60, 64, 67, 0.15);\n",
              "      fill: #174EA6;\n",
              "    }\n",
              "\n",
              "    [theme=dark] .colab-df-convert {\n",
              "      background-color: #3B4455;\n",
              "      fill: #D2E3FC;\n",
              "    }\n",
              "\n",
              "    [theme=dark] .colab-df-convert:hover {\n",
              "      background-color: #434B5C;\n",
              "      box-shadow: 0px 1px 3px 1px rgba(0, 0, 0, 0.15);\n",
              "      filter: drop-shadow(0px 1px 2px rgba(0, 0, 0, 0.3));\n",
              "      fill: #FFFFFF;\n",
              "    }\n",
              "  </style>\n",
              "\n",
              "      <script>\n",
              "        const buttonEl =\n",
              "          document.querySelector('#df-4c0142eb-9b00-4b44-8c9d-615309479fc2 button.colab-df-convert');\n",
              "        buttonEl.style.display =\n",
              "          google.colab.kernel.accessAllowed ? 'block' : 'none';\n",
              "\n",
              "        async function convertToInteractive(key) {\n",
              "          const element = document.querySelector('#df-4c0142eb-9b00-4b44-8c9d-615309479fc2');\n",
              "          const dataTable =\n",
              "            await google.colab.kernel.invokeFunction('convertToInteractive',\n",
              "                                                     [key], {});\n",
              "          if (!dataTable) return;\n",
              "\n",
              "          const docLinkHtml = 'Like what you see? Visit the ' +\n",
              "            '<a target=\"_blank\" href=https://colab.research.google.com/notebooks/data_table.ipynb>data table notebook</a>'\n",
              "            + ' to learn more about interactive tables.';\n",
              "          element.innerHTML = '';\n",
              "          dataTable['output_type'] = 'display_data';\n",
              "          await google.colab.output.renderOutput(dataTable, element);\n",
              "          const docLink = document.createElement('div');\n",
              "          docLink.innerHTML = docLinkHtml;\n",
              "          element.appendChild(docLink);\n",
              "        }\n",
              "      </script>\n",
              "    </div>\n",
              "  </div>\n",
              "  "
            ],
            "text/plain": [
              "  Employee Name  Employee ID  Salary               Birthdate   Age\n",
              "0        Sakshi          101     800   1  2003-04-12 00:00:00   19\n",
              "1        Aditya          102     800   2           24/03/2004   19\n",
              "2         Omkar          103     800   3  2004-05-05 00:00:00   18\n",
              "3         Onkar          104     900   4           25/07/2003   19\n",
              "4       Srushti          105     900   5  2004-07-03 00:00:00   19\n",
              "5        Anshul          106     900   6           28/12/2003   19\n",
              "6         Sneha          107     900   7  2003-08-12 00:00:00   19\n",
              "7        Pravin          108     900   8           19/11/2005   17\n",
              "8          Ojas          109     900   9           20/10/2003   19\n",
              "9     Vaishnavi          110     900  10  2005-02-03 00:00:00   17"
            ]
          },
          "metadata": {},
          "output_type": "display_data"
        }
      ],
      "source": [
        "import pandas as pd\n",
        "a=pd.merge(df,df1)\n",
        "display(a)"
      ]
    },
    {
      "cell_type": "code",
      "execution_count": null,
      "metadata": {
        "colab": {
          "base_uri": "https://localhost:8080/"
        },
        "id": "OfU-llSeVbho",
        "outputId": "68177f1d-d029-4713-e53d-abf9c105ea11"
      },
      "outputs": [
        {
          "name": "stdout",
          "output_type": "stream",
          "text": [
            "  Employee Name  Employee ID  Salary\n",
            "3         Onkar          104     900\n",
            "4       Srushti          105     900\n",
            "5        Anshul          106     900\n",
            "  Employee Name  Employee ID  Salary\n",
            "3         Onkar          104     900\n",
            "4       Srushti          105     900\n",
            "5        Anshul          106     900\n"
          ]
        }
      ],
      "source": [
        "def sal():\n",
        "  import pandas as pd\n",
        "  a=df.sort_values(by=['Salary'], ascending=False)\n",
        "  g=a.nlargest(3,'Salary', 'first')\n",
        "  f=a.nlargest(3,['Salary'])\n",
        "  print(g)\n",
        "  print(f)\n",
        "sal()"
      ]
    },
    {
      "cell_type": "code",
      "execution_count": null,
      "metadata": {
        "colab": {
          "base_uri": "https://localhost:8080/"
        },
        "id": "xKzWpDckoT7T",
        "outputId": "0db66d65-97b8-4e87-e03c-253c06c7a2c0"
      },
      "outputs": [
        {
          "name": "stdout",
          "output_type": "stream",
          "text": [
            "(10, 20, 30, 'sakshi', 24.4)\n",
            "(24, 'sneha', 28.19)\n"
          ]
        }
      ],
      "source": [
        "t1=(10,20,30,\"sakshi\",24.4)\n",
        "t2=(24,\"sneha\",28.19)\n",
        "print(t1)\n",
        "print(t2)"
      ]
    },
    {
      "cell_type": "code",
      "execution_count": null,
      "metadata": {
        "colab": {
          "base_uri": "https://localhost:8080/"
        },
        "id": "Y_qO_hCCT0ix",
        "outputId": "7e8952c2-aef5-4713-c432-e81031c1d4c6"
      },
      "outputs": [
        {
          "name": "stdout",
          "output_type": "stream",
          "text": [
            "{'AM': 'MUNNIAPAN'}\n",
            "{'CDE': 'ASHA ABHILASH'}\n",
            "{'SON': 'VIJAY TARANGE'}\n",
            "{'FOC': 'PRAJAKTA DASHRATH'}\n",
            "CDE\n",
            "which subject do you want to select\n"
          ]
        }
      ],
      "source": [
        "from typing_extensions import get_overloads\n",
        "\n",
        "d1={\"AM\":\"MUNNIAPAN\"}\n",
        "print(d1)\n",
        "d2={\"CDE\":\"ASHA ABHILASH\"}\n",
        "print(d2)\n",
        "d3={\"SON\":\"VIJAY TARANGE\"}\n",
        "print(d3)\n",
        "d4={\"FOC\":\"PRAJAKTA DASHRATH\"}\n",
        "print(d4)\n",
        "def subject():\n",
        "    print(\"experience==good or experience==bad\")\n",
        "    experience =input()\n",
        "    if experience == \"good\":\n",
        "      print(\"ok\")\n",
        "    elif experience == \"bad\":\n",
        "      print(\"need more theory\")\n",
        "subject=input()\n",
        "print(\"which subject do you want to select\")\n",
        "subject=input()\n",
        "if subject ==\"cde\":\n",
        "   print(subject())\n",
        "elif subject== \"am\":\n",
        "    print(subject())\n",
        "elif subject== \"son\":\n",
        "    print(subject())\n",
        "elif subject== \"foc\":\n",
        "    print(subject())\n",
        "elif subject== \"physics\":\n",
        "    print(subject())\n",
        "\n"
      ]
    },
    {
      "cell_type": "code",
      "execution_count": null,
      "metadata": {
        "id": "y9WfqIwAgMYY"
      },
      "outputs": [],
      "source": [
        "print(\"AM\")\n",
        "experience = input()\n",
        "if experience == goo"
      ]
    },
    {
      "cell_type": "code",
      "execution_count": null,
      "metadata": {
        "id": "5ASTpvuUYAIh"
      },
      "outputs": [],
      "source": [
        "subject=input(\"select subject\")\n",
        "if subject==\"cde\":\n",
        "  print(\"how was your experience\")\n"
      ]
    },
    {
      "cell_type": "code",
      "execution_count": null,
      "metadata": {
        "colab": {
          "base_uri": "https://localhost:8080/"
        },
        "id": "Lng0_UIlWIi4",
        "outputId": "0041bad3-8534-4196-bda4-91346bdb3423"
      },
      "outputs": [
        {
          "name": "stdout",
          "output_type": "stream",
          "text": [
            "select subjectcde\n",
            "good\n"
          ]
        }
      ],
      "source": [
        "subject=input(\"select subject\")\n",
        "if subject==\"cde\":\n",
        "  print(\"good\")"
      ]
    },
    {
      "cell_type": "code",
      "execution_count": null,
      "metadata": {
        "id": "QWEr2reIY1_h"
      },
      "outputs": [],
      "source": [
        "faculty_ratings= {}\n",
        "subjects_taught = [\"Mathematics\", \"Science\", \"English\", \"History\", \"Computer Science\", \"Social Studies\"]\n",
        "\n"
      ]
    },
    {
      "cell_type": "code",
      "execution_count": null,
      "metadata": {
        "id": "BFk2yCNOZdRI"
      },
      "outputs": [],
      "source": [
        "faculty_ratings = {}\n",
        "def add_faculty_rating(name, rating, suggestion=\"\"):\n",
        "    if rating == \"good\" and rating == \"bad\":\n",
        "        faculty_ratings[name] = {\"rating\": rating, \"suggestion\": suggestion}\n",
        "        print(\"Thank you for your rating and suggestion!\")\n",
        "    else:\n",
        "        print(\"Invalid rating. Please rate on a scale of good or bad.\")\n",
        "\n",
        "\n",
        "\n"
      ]
    },
    {
      "cell_type": "code",
      "execution_count": null,
      "metadata": {
        "colab": {
          "base_uri": "https://localhost:8080/"
        },
        "id": "OU2IuwAyZreA",
        "outputId": "8e5325cf-6f37-4876-86b0-57ab48163d8b"
      },
      "outputs": [
        {
          "name": "stdout",
          "output_type": "stream",
          "text": [
            "You can learn to code for free on freeCodeCamp\n"
          ]
        }
      ],
      "source": [
        "def learn_to_code():\n",
        "    print(\"You can learn to code for free on freeCodeCamp\")\n",
        "\n",
        "learn_to_code()\n",
        "# Output: You can learn to code for free on freeCodeCamp"
      ]
    },
    {
      "cell_type": "code",
      "execution_count": null,
      "metadata": {
        "colab": {
          "base_uri": "https://localhost:8080/"
        },
        "id": "X-HiNofXbejR",
        "outputId": "14dce359-234d-47d4-d1ff-56b22c5b06bf"
      },
      "outputs": [
        {
          "name": "stdout",
          "output_type": "stream",
          "text": [
            "x is good\n"
          ]
        }
      ],
      "source": [
        "x = \"CDE\"\n",
        "\n",
        "if x == \"CDE\":\n",
        "    print(\"x is good\")\n",
        "elif x == \"son\":\n",
        "    print(\"x is worst\")\n",
        "else:\n",
        "    print(\"x is no suggestion\")"
      ]
    },
    {
      "cell_type": "code",
      "execution_count": null,
      "metadata": {
        "colab": {
          "base_uri": "https://localhost:8080/"
        },
        "id": "f0lZPCJzoBIq",
        "outputId": "d6fd34d4-2f0b-4d75-efa3-d864ce15c787"
      },
      "outputs": [
        {
          "name": "stdout",
          "output_type": "stream",
          "text": [
            "{'ABC': 2404, 'EDF': 64}\n",
            "dict_keys(['ABC', 'EDF'])\n",
            "dict_values([2404, 64])\n",
            "{'ABC': 2404, 'EDF': 64, 'SAM': 9424}\n",
            "3\n",
            "{'ABC': 2404, 'EDF': 64}\n"
          ]
        }
      ],
      "source": [
        "dict1={\"ABC\":2404,\"EDF\":64}\n",
        "print(dict1)\n",
        "print(dict1.keys())\n",
        "print(dict1.values())\n",
        "dict1.update({\"SAM\":9424})\n",
        "print(dict1)\n",
        "a = dict1.__len__()\n",
        "print(a)\n",
        "dict1.pop(\"SAM\")\n",
        "print(dict1)"
      ]
    },
    {
      "cell_type": "code",
      "execution_count": null,
      "metadata": {
        "colab": {
          "base_uri": "https://localhost:8080/"
        },
        "id": "h2OlX3iQprIS",
        "outputId": "ba32d9f4-df23-4b54-bd55-15ffc88b63f3"
      },
      "outputs": [
        {
          "name": "stdout",
          "output_type": "stream",
          "text": [
            "{'FOC': 4, 'HADOOP': 10}\n"
          ]
        }
      ],
      "source": [
        "dictionary = {\"EDS\":4,\"FOC\":4,\"JAVA\":7,\"HADOOP\":10,\"C+\":21}\n",
        "keys_for_slicing  = [\"FOC\",\"HADOOP\"]\n",
        "sliced_dict = {key:dictionary[key]for key in keys_for_slicing}\n",
        "print(sliced_dict)"
      ]
    },
    {
      "cell_type": "code",
      "execution_count": null,
      "metadata": {
        "colab": {
          "base_uri": "https://localhost:8080/"
        },
        "id": "6u8YyfpYrZvt",
        "outputId": "0cedde8e-98ec-4fb4-9985-473091485f5e"
      },
      "outputs": [
        {
          "name": "stdout",
          "output_type": "stream",
          "text": [
            "{'ERP': 'YOU', 9: 'ERP', 8.9: 'Python'}\n"
          ]
        }
      ],
      "source": [
        "import json\n",
        "emp_dict={\n",
        "    \"ERP\":\"YOU\",9:\"ERP\",8.9:\"Python\"\n",
        "}\n",
        "print(emp_dict)"
      ]
    },
    {
      "cell_type": "code",
      "execution_count": null,
      "metadata": {
        "colab": {
          "base_uri": "https://localhost:8080/"
        },
        "id": "ZAzsKPTDbKdr",
        "outputId": "ad400356-13b9-4264-a6de-37f35098899b"
      },
      "outputs": [
        {
          "name": "stdout",
          "output_type": "stream",
          "text": [
            "outer function\n",
            "inner function\n"
          ]
        }
      ],
      "source": [
        "def outer():\n",
        "  print(\"outer function\")\n",
        "\n",
        "  def inner():\n",
        "    print(\"inner function\")\n",
        "\n",
        "  inner()\n",
        "\n",
        "outer()"
      ]
    },
    {
      "cell_type": "code",
      "execution_count": null,
      "metadata": {
        "colab": {
          "base_uri": "https://localhost:8080/"
        },
        "id": "OOIwUa4Pd5-f",
        "outputId": "4ce234e6-fdeb-4dd0-fb1d-30ff394a96ef"
      },
      "outputs": [
        {
          "name": "stdout",
          "output_type": "stream",
          "text": [
            "30\n",
            "20\n"
          ]
        }
      ],
      "source": [
        "def add():\n",
        "  a=10\n",
        "  b=20\n",
        "  c=a+b\n",
        "  print(c)\n",
        "\n",
        "  def sub():\n",
        "    a=30\n",
        "    b=10\n",
        "    c=a-b\n",
        "    print(c)\n",
        "  sub()\n",
        "add()"
      ]
    },
    {
      "cell_type": "code",
      "execution_count": null,
      "metadata": {
        "colab": {
          "base_uri": "https://localhost:8080/"
        },
        "id": "p5Vj2CNxfpxx",
        "outputId": "05f7d52a-9c54-4ce8-90e4-9f6e0acb306a"
      },
      "outputs": [
        {
          "name": "stdout",
          "output_type": "stream",
          "text": [
            "{\"x\": \"10\", \"y\": 56, \"z\": \"python\"}\n"
          ]
        }
      ],
      "source": [
        "import json\n",
        "x={\n",
        "    \"x\":\"10\",\n",
        "    \"y\":56,\n",
        "    \"z\":\"python\"\n",
        "}\n",
        "y=json.dumps(x)\n",
        "print(y)"
      ]
    },
    {
      "cell_type": "code",
      "execution_count": null,
      "metadata": {
        "colab": {
          "base_uri": "https://localhost:8080/",
          "height": 200
        },
        "id": "GGChXv3ryPUZ",
        "outputId": "de7bccb8-f5e4-40b5-948e-14eb25cd78a3"
      },
      "outputs": [
        {
          "ename": "NameError",
          "evalue": "ignored",
          "output_type": "error",
          "traceback": [
            "\u001b[0;31m---------------------------------------------------------------------------\u001b[0m",
            "\u001b[0;31mNameError\u001b[0m                                 Traceback (most recent call last)",
            "\u001b[0;32m<ipython-input-2-53edd5dbfb3f>\u001b[0m in \u001b[0;36m<cell line: 2>\u001b[0;34m()\u001b[0m\n\u001b[1;32m      1\u001b[0m \u001b[0;32mimport\u001b[0m \u001b[0mpandas\u001b[0m \u001b[0;32mas\u001b[0m \u001b[0mpd\u001b[0m\u001b[0;34m\u001b[0m\u001b[0;34m\u001b[0m\u001b[0m\n\u001b[0;32m----> 2\u001b[0;31m \u001b[0mresult\u001b[0m\u001b[0;34m=\u001b[0m\u001b[0mdf\u001b[0m\u001b[0;34m.\u001b[0m\u001b[0mtransform\u001b[0m\u001b[0;34m(\u001b[0m\u001b[0mfunc\u001b[0m\u001b[0;34m=\u001b[0m\u001b[0;32mlambda\u001b[0m \u001b[0mx\u001b[0m\u001b[0;34m:\u001b[0m\u001b[0mx\u001b[0m\u001b[0;34m+\u001b[0m\u001b[0;36m10\u001b[0m\u001b[0;34m)\u001b[0m\u001b[0;34m\u001b[0m\u001b[0;34m\u001b[0m\u001b[0m\n\u001b[0m\u001b[1;32m      3\u001b[0m \u001b[0mprint\u001b[0m\u001b[0;34m(\u001b[0m\u001b[0mresult\u001b[0m\u001b[0;34m)\u001b[0m\u001b[0;34m\u001b[0m\u001b[0;34m\u001b[0m\u001b[0m\n",
            "\u001b[0;31mNameError\u001b[0m: name 'df' is not defined"
          ]
        }
      ],
      "source": [
        "import pandas as pd\n",
        "result=df.transform(func=lambda x:x+10)\n",
        "print(result)"
      ]
    },
    {
      "cell_type": "code",
      "execution_count": null,
      "metadata": {
        "colab": {
          "base_uri": "https://localhost:8080/"
        },
        "id": "PJHgP9fhzjLq",
        "outputId": "1285486b-299b-48ae-904d-f191fffaeb8a"
      },
      "outputs": [
        {
          "name": "stdout",
          "output_type": "stream",
          "text": [
            "{'name': 'Classio', 'website': 'stack.com'}\n"
          ]
        }
      ],
      "source": [
        "import json\n",
        "json_string='{\"name\":\"Classio\",\"website\":\"stack.com\"}'\n",
        "dictionary=json.loads(json_string)\n",
        "print(dictionary)"
      ]
    },
    {
      "cell_type": "code",
      "execution_count": null,
      "metadata": {
        "colab": {
          "base_uri": "https://localhost:8080/"
        },
        "id": "dPRj7Huf0vNm",
        "outputId": "5b4182b8-1c26-4ad9-8d94-31cb62e9535e"
      },
      "outputs": [
        {
          "name": "stdout",
          "output_type": "stream",
          "text": [
            "addition of matrix\n",
            "[[ 7  9]\n",
            " [13 15]]\n",
            "subtraction of matrix\n",
            "[[-5 -5]\n",
            " [-5 -5]]\n"
          ]
        }
      ],
      "source": [
        "import numpy as np\n",
        "x=np.array([[1,2],[4,5]])\n",
        "y=np.array([[6,7],[9,10]])\n",
        "print(\"addition of matrix\")\n",
        "print(np.add(x,y))\n",
        "print(\"subtraction of matrix\")\n",
        "print(np.subtract(x,y))"
      ]
    },
    {
      "cell_type": "code",
      "execution_count": null,
      "metadata": {
        "colab": {
          "base_uri": "https://localhost:8080/"
        },
        "id": "lKqDchhslmtu",
        "outputId": "aaab1c52-4b68-48fb-e592-4197114ab344"
      },
      "outputs": [
        {
          "name": "stdout",
          "output_type": "stream",
          "text": [
            "[[1 2 3]\n",
            " [4 5 6]\n",
            " [7 8 9]]\n",
            "[[1 4 7]\n",
            " [2 5 8]\n",
            " [3 6 9]]\n"
          ]
        }
      ],
      "source": [
        "l1=np.matrix('1,2,3;4,5,6;7,8,9')\n",
        "a=np.array(l1)\n",
        "print(a)\n",
        "print(a.T)"
      ]
    },
    {
      "cell_type": "code",
      "execution_count": null,
      "metadata": {
        "id": "nd-_ikGm4IR9"
      },
      "outputs": [],
      "source": [
        "stack=[]\n",
        "stack.append('a')\n",
        "stack.append('b')\n",
        "stack.append('c')\n",
        "print(sta)"
      ]
    },
    {
      "cell_type": "code",
      "execution_count": null,
      "metadata": {
        "id": "JOBj5kgLqBtu"
      },
      "outputs": [],
      "source": []
    },
    {
      "cell_type": "code",
      "execution_count": null,
      "metadata": {
        "colab": {
          "base_uri": "https://localhost:8080/"
        },
        "id": "Y2fGxGenqBvf",
        "outputId": "da554148-2414-4a28-d1aa-20eac4298e4a"
      },
      "outputs": [
        {
          "name": "stdout",
          "output_type": "stream",
          "text": [
            "Enter any number of your choice\n",
            "21\n",
            "21 is odd\n"
          ]
        }
      ],
      "source": [
        "#short hand if else\n",
        "print(\"Enter any number of your choice\")\n",
        "num=int(input())\n",
        "print(num,\"is even\")if num%2==0else print(num,\"is odd\")"
      ]
    },
    {
      "cell_type": "code",
      "execution_count": null,
      "metadata": {
        "id": "9Zu3vPUprirZ"
      },
      "outputs": [],
      "source": []
    },
    {
      "cell_type": "code",
      "execution_count": null,
      "metadata": {
        "colab": {
          "base_uri": "https://localhost:8080/"
        },
        "id": "hy6mERcGritg",
        "outputId": "03a9e2d7-6c67-4c45-a889-a1a57009f9aa"
      },
      "outputs": [
        {
          "name": "stdout",
          "output_type": "stream",
          "text": [
            "what is the day today?tuesday\n",
            "python test\n"
          ]
        }
      ],
      "source": [
        "day=input(\"what is the day today?\")\n",
        "if day==\"monday\":\n",
        "  print(\"it is a day for work!\")\n",
        "elif day==\"tuesday\":\n",
        "  print(\"python test\")\n",
        "elif day==\"wednesday\":\n",
        "  print(\"a holiday\")\n",
        "else:\n",
        "  print(\"null\")"
      ]
    },
    {
      "cell_type": "code",
      "execution_count": null,
      "metadata": {
        "colab": {
          "base_uri": "https://localhost:8080/"
        },
        "id": "ExczBTUdsuMZ",
        "outputId": "26fb17e6-e8e6-44f5-ede3-fd48a8fc4b3f"
      },
      "outputs": [
        {
          "name": "stdout",
          "output_type": "stream",
          "text": [
            "sakshi\n",
            "sakshi\n",
            "sakshi\n",
            "sakshi\n",
            "sakshi\n",
            "sakshi\n",
            "sakshi\n",
            "sakshi\n",
            "sakshi\n"
          ]
        }
      ],
      "source": [
        "i=1\n",
        "while i<10:\n",
        "  print(\"sakshi\")\n",
        "  i=i+1"
      ]
    },
    {
      "cell_type": "code",
      "execution_count": null,
      "metadata": {
        "colab": {
          "base_uri": "https://localhost:8080/"
        },
        "id": "t51g2Kx4wx6p",
        "outputId": "492a1abb-cca7-40e7-e750-9b60a6c228d4"
      },
      "outputs": [
        {
          "name": "stdout",
          "output_type": "stream",
          "text": [
            "2023-05-03\n"
          ]
        }
      ],
      "source": [
        "from datetime import date\n",
        "today=date.today()\n",
        "print(today)"
      ]
    },
    {
      "cell_type": "code",
      "execution_count": null,
      "metadata": {
        "colab": {
          "base_uri": "https://localhost:8080/"
        },
        "id": "6N_Ob2na5C7o",
        "outputId": "448e7288-e454-4c08-8458-5ff90c534304"
      },
      "outputs": [
        {
          "name": "stdout",
          "output_type": "stream",
          "text": [
            "the attributes of now() are:\n",
            "day:3\n",
            "\n",
            "5\n",
            "year:2023\n"
          ]
        }
      ],
      "source": [
        "import datetime\n",
        "current_time=datetime.datetime.now()\n",
        "print(\"the attributes of now() are:\")\n",
        "print(\"day:\",end=\"\")\n",
        "print(current_time.day)\n",
        "print()\n",
        "print(current_time.month)\n",
        "print(\"year:\",end=\"\")\n",
        "print(current_time.year)"
      ]
    },
    {
      "cell_type": "code",
      "execution_count": null,
      "metadata": {
        "id": "t489tkr_54B9"
      },
      "outputs": [],
      "source": [
        "from datetime import date\n",
        "def calculateAge(dob):\n",
        "  today=date.today()\n",
        "  age"
      ]
    },
    {
      "cell_type": "code",
      "execution_count": null,
      "metadata": {
        "id": "uV0PL-w4h6T1",
        "outputId": "c7ae63f6-e522-4f0e-bc4a-9ce8b90e5e35",
        "colab": {
          "base_uri": "https://localhost:8080/",
          "height": 356
        }
      },
      "outputs": [
        {
          "output_type": "error",
          "ename": "UnicodeDecodeError",
          "evalue": "ignored",
          "traceback": [
            "\u001b[0;31m---------------------------------------------------------------------------\u001b[0m",
            "\u001b[0;31mUnicodeDecodeError\u001b[0m                        Traceback (most recent call last)",
            "\u001b[0;32m<ipython-input-1-f482098ac7d0>\u001b[0m in \u001b[0;36m<cell line: 3>\u001b[0;34m()\u001b[0m\n\u001b[1;32m      1\u001b[0m \u001b[0;32mimport\u001b[0m \u001b[0mcsv\u001b[0m\u001b[0;34m\u001b[0m\u001b[0;34m\u001b[0m\u001b[0m\n\u001b[1;32m      2\u001b[0m \u001b[0mfile\u001b[0m\u001b[0;34m=\u001b[0m\u001b[0mopen\u001b[0m\u001b[0;34m(\u001b[0m\u001b[0;34m\"/content/drive/MyDrive/salary sheet.csv\"\u001b[0m\u001b[0;34m,\u001b[0m\u001b[0;34m\"r\"\u001b[0m\u001b[0;34m)\u001b[0m\u001b[0;34m\u001b[0m\u001b[0;34m\u001b[0m\u001b[0m\n\u001b[0;32m----> 3\u001b[0;31m \u001b[0mdata\u001b[0m\u001b[0;34m=\u001b[0m\u001b[0mlist\u001b[0m\u001b[0;34m(\u001b[0m\u001b[0mcsv\u001b[0m\u001b[0;34m.\u001b[0m\u001b[0mreader\u001b[0m\u001b[0;34m(\u001b[0m\u001b[0mfile\u001b[0m\u001b[0;34m)\u001b[0m\u001b[0;34m)\u001b[0m\u001b[0;34m\u001b[0m\u001b[0;34m\u001b[0m\u001b[0m\n\u001b[0m\u001b[1;32m      4\u001b[0m \u001b[0mdata\u001b[0m\u001b[0;34m.\u001b[0m\u001b[0msort\u001b[0m\u001b[0;34m(\u001b[0m\u001b[0;34m)\u001b[0m\u001b[0;34m\u001b[0m\u001b[0;34m\u001b[0m\u001b[0m\n\u001b[1;32m      5\u001b[0m \u001b[0mprint\u001b[0m\u001b[0;34m(\u001b[0m\u001b[0mdata\u001b[0m\u001b[0;34m)\u001b[0m\u001b[0;34m\u001b[0m\u001b[0;34m\u001b[0m\u001b[0m\n",
            "\u001b[0;32m/usr/lib/python3.10/codecs.py\u001b[0m in \u001b[0;36mdecode\u001b[0;34m(self, input, final)\u001b[0m\n\u001b[1;32m    320\u001b[0m         \u001b[0;31m# decode input (taking the buffer into account)\u001b[0m\u001b[0;34m\u001b[0m\u001b[0;34m\u001b[0m\u001b[0m\n\u001b[1;32m    321\u001b[0m         \u001b[0mdata\u001b[0m \u001b[0;34m=\u001b[0m \u001b[0mself\u001b[0m\u001b[0;34m.\u001b[0m\u001b[0mbuffer\u001b[0m \u001b[0;34m+\u001b[0m \u001b[0minput\u001b[0m\u001b[0;34m\u001b[0m\u001b[0;34m\u001b[0m\u001b[0m\n\u001b[0;32m--> 322\u001b[0;31m         \u001b[0;34m(\u001b[0m\u001b[0mresult\u001b[0m\u001b[0;34m,\u001b[0m \u001b[0mconsumed\u001b[0m\u001b[0;34m)\u001b[0m \u001b[0;34m=\u001b[0m \u001b[0mself\u001b[0m\u001b[0;34m.\u001b[0m\u001b[0m_buffer_decode\u001b[0m\u001b[0;34m(\u001b[0m\u001b[0mdata\u001b[0m\u001b[0;34m,\u001b[0m \u001b[0mself\u001b[0m\u001b[0;34m.\u001b[0m\u001b[0merrors\u001b[0m\u001b[0;34m,\u001b[0m \u001b[0mfinal\u001b[0m\u001b[0;34m)\u001b[0m\u001b[0;34m\u001b[0m\u001b[0;34m\u001b[0m\u001b[0m\n\u001b[0m\u001b[1;32m    323\u001b[0m         \u001b[0;31m# keep undecoded input until the next call\u001b[0m\u001b[0;34m\u001b[0m\u001b[0;34m\u001b[0m\u001b[0m\n\u001b[1;32m    324\u001b[0m         \u001b[0mself\u001b[0m\u001b[0;34m.\u001b[0m\u001b[0mbuffer\u001b[0m \u001b[0;34m=\u001b[0m \u001b[0mdata\u001b[0m\u001b[0;34m[\u001b[0m\u001b[0mconsumed\u001b[0m\u001b[0;34m:\u001b[0m\u001b[0;34m]\u001b[0m\u001b[0;34m\u001b[0m\u001b[0;34m\u001b[0m\u001b[0m\n",
            "\u001b[0;31mUnicodeDecodeError\u001b[0m: 'utf-8' codec can't decode byte 0x84 in position 12: invalid start byte"
          ]
        }
      ],
      "source": [
        "import csv\n",
        "file=open(\"/content/drive/MyDrive/salary sheet.csv\",\"r\")\n",
        "data=list(csv.reader(file))\n",
        "data.sort()\n",
        "print(data)\n",
        "file.close()\n",
        "file1=open(\"/content/drive/MyDrive/employee sheet.csv\",\"r\")\n",
        "data1=list(csv.reader(file1))\n",
        "print(data1)\n",
        "data2=[]\n",
        "for i in range(len(data)):\n",
        "  data2.append(data[i]+data1[i])\n",
        "print(data2)\n",
        "print(data2[0])\n",
        "data2.sort(key=lambda x: int(x[2]),reverse=true)\n",
        "print(data2)\n",
        "file2=open(\"/content/emp-sal.csv\",\"w\")\n",
        "cw=csv.writer(file2)\n",
        "cw.writerows(data2)\n",
        "file.close()\n",
        "file1.close()\n",
        "file2.close()\n"
      ]
    },
    {
      "cell_type": "code",
      "execution_count": null,
      "metadata": {
        "colab": {
          "base_uri": "https://localhost:8080/"
        },
        "id": "nJXxZ_iIqzuG",
        "outputId": "afaa5b8c-b467-4001-ca51-3619ec46659a"
      },
      "outputs": [
        {
          "name": "stdout",
          "output_type": "stream",
          "text": [
            "[(2, 3, 6, 8, 'python', 4.5), [4, 5, 6]]\n",
            "[2, 3, 6, 8, 'python', 4.5, 4, 5, 6]\n"
          ]
        }
      ],
      "source": [
        "#merging of list n tuple\n",
        "l1=(2,3,6,8,\"python\",4.5)\n",
        "l2=[4,5,6]\n",
        "l3=[l1,l2]\n",
        "print(l3)\n",
        "l4=[*l1,*l2]#masking\n",
        "print(l4)"
      ]
    },
    {
      "cell_type": "code",
      "execution_count": null,
      "metadata": {
        "colab": {
          "base_uri": "https://localhost:8080/"
        },
        "id": "2L38BEXq7I4j",
        "outputId": "10885cde-fa7a-4363-be32-e6e1a66e2538"
      },
      "outputs": [
        {
          "name": "stdout",
          "output_type": "stream",
          "text": [
            "1\n",
            "3\n",
            "5\n",
            "7\n",
            "9\n"
          ]
        }
      ],
      "source": [
        "#itertools in python is a module that provides various functions that work on iterators to produce complex iterators.(iterations)\n",
        "from itertools import count\n",
        "\n",
        "for number in count(start=1, step=2):\n",
        "  if number > 10:\n",
        "    break\n",
        "  print(number)"
      ]
    },
    {
      "cell_type": "code",
      "execution_count": null,
      "metadata": {
        "colab": {
          "base_uri": "https://localhost:8080/"
        },
        "id": "WesFZ4w872VU",
        "outputId": "4d9b412b-45f4-44f6-bde1-9c2631824f3e"
      },
      "outputs": [
        {
          "name": "stdout",
          "output_type": "stream",
          "text": [
            "6\n",
            "4\n",
            "81/7\n",
            "61/17\n"
          ]
        }
      ],
      "source": [
        "#fraction is a module which provides support for rational numbers.it allows to create a fraction instance from integers,floats,numbers,decimals and strings.\n",
        "#fraction is a module we are importing Fraction as a func from it\n",
        "from fractions import Fraction\n",
        "print(Fraction(24,4))\n",
        "print(Fraction(84,21))\n",
        "print(Fraction(81,7))\n",
        "print(Fraction(244,68))"
      ]
    },
    {
      "cell_type": "code",
      "execution_count": null,
      "metadata": {
        "colab": {
          "base_uri": "https://localhost:8080/"
        },
        "id": "68pLWWiU9WWU",
        "outputId": "0e1b594e-e60b-4218-f774-29bc51c046db"
      },
      "outputs": [
        {
          "name": "stdout",
          "output_type": "stream",
          "text": [
            "16.0\n"
          ]
        }
      ],
      "source": [
        "#python modules\n",
        "#module is a file containing a set of functions which we want to include in our application\n",
        "#import math library\n",
        "import math\n",
        "#return the value of 2 raised to power of 4\n",
        "print(math.pow(2,4))"
      ]
    },
    {
      "cell_type": "code",
      "execution_count": null,
      "metadata": {
        "colab": {
          "base_uri": "https://localhost:8080/"
        },
        "id": "m6lsMWlf-EPS",
        "outputId": "6a1ef1ca-5286-4739-e13f-665c411ac623"
      },
      "outputs": [
        {
          "name": "stdout",
          "output_type": "stream",
          "text": [
            "result for float division of 4 by 2:\n",
            "2.0\n",
            "result for decimal division of 4 by 2:\n",
            "2\n"
          ]
        }
      ],
      "source": [
        "#python implements decimal numbers as double\n",
        "#precision floating point numbers which are machine dependent\n",
        "import decimal\n",
        "float_division=4/2\n",
        "decimal_division=decimal.Decimal(4)/decimal.Decimal(2)\n",
        "print(\"result for float division of 4 by 2:\")\n",
        "print(float_division)\n",
        "print(\"result for decimal division of 4 by 2:\")\n",
        "print(decimal_division)"
      ]
    },
    {
      "cell_type": "code",
      "execution_count": null,
      "metadata": {
        "colab": {
          "base_uri": "https://localhost:8080/"
        },
        "id": "6itAWrmA_r7T",
        "outputId": "50b8825f-ecd5-45d0-b770-1213a9f991fb"
      },
      "outputs": [
        {
          "name": "stdout",
          "output_type": "stream",
          "text": [
            "1.12\n"
          ]
        }
      ],
      "source": [
        "import decimal\n",
        "from decimal import Decimal\n",
        "x=Decimal('0.44')\n",
        "y=Decimal('0.28')\n",
        "z=Decimal('0.4')\n",
        "s=x+y+z\n",
        "print(s)="
      ]
    },
    {
      "cell_type": "code",
      "source": [],
      "metadata": {
        "id": "OzSnmNi2AoPy"
      },
      "execution_count": null,
      "outputs": []
    },
    {
      "cell_type": "code",
      "execution_count": null,
      "metadata": {
        "colab": {
          "base_uri": "https://localhost:8080/"
        },
        "id": "SBbZj13TAHF5",
        "outputId": "058e5902-a0e2-4cc0-f4b4-e894a267a289"
      },
      "outputs": [
        {
          "name": "stdout",
          "output_type": "stream",
          "text": [
            "the addition of numbers is:5\n",
            "the differnece of numbers is:-1\n",
            "the product of numbers is:6\n"
          ]
        }
      ],
      "source": [
        "#the operator module exports a set of efficient functions\n",
        "#corresponding to the intrinsic operators of python\n",
        "#for example,operator.add(x,y)is equivalent to the expression x+y\n",
        "import operator\n",
        "#intializing variables\n",
        "a=2\n",
        "b=3\n",
        "#use add() to add two nos\n",
        "print(\"the addition of numbers is:\",end=\"\");\n",
        "print(operator.add(a,b))\n",
        "#use sub()to subtract two nos\n",
        "print(\"the differnece of numbers is:\",end=\"\");\n",
        "print(operator.sub(a,b))\n",
        "#use mul()to multiply two nos\n",
        "print(\"the product of numbers is:\",end=\"\");\n",
        "print(operator.mul(a,b))"
      ]
    },
    {
      "cell_type": "code",
      "execution_count": null,
      "metadata": {
        "colab": {
          "base_uri": "https://localhost:8080/"
        },
        "id": "xv2sdpwH1IWB",
        "outputId": "5725968a-ff30-4408-8fb5-1962b6efbac4"
      },
      "outputs": [
        {
          "name": "stdout",
          "output_type": "stream",
          "text": [
            "(10, 20, 'sakshi', 12.4, 13)\n"
          ]
        }
      ],
      "source": [
        "t1=(10,20,\"sakshi\")\n",
        "t2=(12.4,13)\n",
        "t3=t1+t2\n",
        "print(t3)"
      ]
    },
    {
      "cell_type": "code",
      "execution_count": null,
      "metadata": {
        "colab": {
          "background_save": true,
          "base_uri": "https://localhost:8080/"
        },
        "id": "hIqde7nAmC9I",
        "outputId": "b7504f6f-108e-459a-cce7-1e10879c8df3"
      },
      "outputs": [
        {
          "name": "stdout",
          "output_type": "stream",
          "text": [
            "Hello, World!\n"
          ]
        }
      ],
      "source": []
    },
    {
      "cell_type": "code",
      "execution_count": null,
      "metadata": {
        "id": "4Onmz1h4opJ4"
      },
      "outputs": [],
      "source": [
        "import pandas as pd\n",
        "result=df.transform(func=lambda x:x+10)\n",
        "print(result)"
      ]
    },
    {
      "cell_type": "code",
      "source": [
        "import decimal\n",
        "from decimal import Decimal\n",
        "x=Decimal('2.3')\n",
        "y=Decimal('2.4')\n",
        "z=Decimal('0.2')\n",
        "s=x+y+z\n",
        "print(s)"
      ],
      "metadata": {
        "colab": {
          "base_uri": "https://localhost:8080/"
        },
        "id": "OHb_WsktAsvl",
        "outputId": "e61b34c5-9c8e-435f-aeb2-dac9310c657c"
      },
      "execution_count": null,
      "outputs": [
        {
          "output_type": "stream",
          "name": "stdout",
          "text": [
            "4.9\n"
          ]
        }
      ]
    },
    {
      "cell_type": "markdown",
      "source": [
        "TO CREATE A \"CONTACT BOOK\" WITH THE DETAILS OF THE PERSON AS FOLLOWS:\n",
        "\n",
        "\n",
        "1.   NAME\n",
        "2.   PHONE NUMBER\n",
        "3.   EMAIL ID\n",
        "4.   ADDRESS\n",
        "5.   CITY LOCATION\n",
        "\n",
        "AND TO CHECK THE SAVED CONTACTS IN A CSV FILE NAMED 'contacts.csv'.\n"
      ],
      "metadata": {
        "id": "XFM-w-eoyyiZ"
      }
    },
    {
      "cell_type": "code",
      "source": [
        "import pandas as pd\n",
        "\n",
        "contacts_df = pd.DataFrame(columns=['Name', 'Phone', 'Email', 'Address', 'City'])\n",
        "\n",
        "def add_contact():\n",
        "    name = input(\"Enter name: \")\n",
        "    phone = input(\"Enter phone number: \")\n",
        "    email = input(\"Enter email address: \")\n",
        "    address = input(\"Enter address: \")\n",
        "    city = input(\"Enter city: \")\n",
        "\n",
        "    contact = {'Name': name, 'Phone': phone, 'Email': email, 'Address': address, 'City': city}\n",
        "\n",
        "    global contacts_df\n",
        "    contacts_df = contacts_df.append(contact, ignore_index=True)\n",
        "    print(\"Contact added successfully.\")\n",
        "\n",
        "def search_contact():\n",
        "    search_term = input(\"Enter the name or phone number to search: \")\n",
        "\n",
        "    search_results = contacts_df[\n",
        "        (contacts_df['Name'].str.contains(search_term, case=False)) |\n",
        "        (contacts_df['Phone'].str.contains(search_term))\n",
        "    ]\n",
        "\n",
        "    if search_results.empty:\n",
        "        print(\"No contacts found.\")\n",
        "    else:\n",
        "        print(\"Search results:\")\n",
        "        print(search_results)\n",
        "\n",
        "while True:\n",
        "    print(\"1. Add Contact\")\n",
        "    print(\"2. Search Contact\")\n",
        "    print(\"3. Exit\")\n",
        "    choice = input(\"Enter your choice (1-3): \")\n",
        "\n",
        "    if choice == '1':\n",
        "        add_contact()\n",
        "    elif choice == '2':\n",
        "        search_contact()\n",
        "    elif choice == '3':\n",
        "        break\n",
        "    else:\n",
        "        print(\"Invalid choice. Please try again.\")\n",
        "\n",
        "# For saving the contacts into a CSV File\n",
        "contacts_df.to_csv('/content/drive/MyDrive/contacts.csv', index=False)\n",
        "print(\"Contacts saved to contacts.csv.\")"
      ],
      "metadata": {
        "id": "oncDQqeVreXJ",
        "colab": {
          "base_uri": "https://localhost:8080/"
        },
        "outputId": "127562e6-0798-4d57-a41b-81249a050e32"
      },
      "execution_count": null,
      "outputs": [
        {
          "metadata": {
            "tags": null
          },
          "name": "stdout",
          "output_type": "stream",
          "text": [
            "1. Add Contact\n",
            "2. Search Contact\n",
            "3. Exit\n"
          ]
        }
      ]
    },
    {
      "cell_type": "code",
      "source": [
        "from string import ascii_letters\n",
        "try:\n",
        "    a = input()\n",
        "    assert all(c in ascii_letters for c in a)\n",
        "\n",
        "except:\n",
        "    print(\"Wrong, try again\")\n",
        "\n",
        "isalpha():\n",
        "\n",
        "a = input()\n",
        "if a.isalpha():\n",
        "    print(\"Correct!\")\n",
        "else:\n",
        "    print(\"Wrong\")"
      ],
      "metadata": {
        "id": "LXEKGpc0rfAm",
        "colab": {
          "base_uri": "https://localhost:8080/",
          "height": 130
        },
        "outputId": "76ec7e66-b331-403c-bfae-702923bf48ad"
      },
      "execution_count": null,
      "outputs": [
        {
          "output_type": "error",
          "ename": "SyntaxError",
          "evalue": "ignored",
          "traceback": [
            "\u001b[0;36m  File \u001b[0;32m\"<ipython-input-1-34506e7e6ebc>\"\u001b[0;36m, line \u001b[0;32m9\u001b[0m\n\u001b[0;31m    isalpha():\u001b[0m\n\u001b[0m             ^\u001b[0m\n\u001b[0;31mSyntaxError\u001b[0m\u001b[0;31m:\u001b[0m invalid syntax\n"
          ]
        }
      ]
    },
    {
      "cell_type": "code",
      "source": [
        "Reading AND WRITING CSV FILES IN PYTHON USING MODULE AND PANDAS"
      ],
      "metadata": {
        "id": "KmQtDyl0IcIX"
      },
      "execution_count": null,
      "outputs": []
    },
    {
      "cell_type": "code",
      "source": [
        "import csv\n",
        "\n",
        "# Reading CSV file\n",
        "with open('/content/drive/MyDrive/LAPTOP DETAILS RECORD.csv', 'r') as file:\n",
        "    reader = csv.reader(file)\n",
        "    for row in reader:\n",
        "        # Process each row\n",
        "        print(row)\n",
        "\n",
        "# Writing CSV file\n",
        "data = [\n",
        "    ['Name', 'Age', 'City'],\n",
        "    ['John', '25', 'New York'],\n",
        "    ['Alice', '30', 'Chicago'],\n",
        "    ['Bob', '35', 'San Francisco']\n",
        "]\n",
        "\n",
        "with open('/content/drive/MyDrive/LAPTOP DETAILS RECORD.csv', 'w', newline='') as file:\n",
        "    writer = csv.writer(file)\n",
        "    writer.writerows(data)\n"
      ],
      "metadata": {
        "id": "aHi0LfLF3qn0"
      },
      "execution_count": null,
      "outputs": []
    },
    {
      "cell_type": "code",
      "source": [
        "from google.colab import drive\n",
        "drive.mount('/content/drive')"
      ],
      "metadata": {
        "id": "lEHVXkWC37Yc"
      },
      "execution_count": null,
      "outputs": []
    },
    {
      "cell_type": "code",
      "source": [
        "import csv\n",
        "\n",
        "# Reading CSV file\n",
        "with open('/content/drive/MyDrive/LAPTOP DETAILS RECORD.csv', 'r') as file:\n",
        "    reader = csv.reader(file)\n",
        "    for row in reader:\n",
        "        # Process each row\n",
        "        print(row)"
      ],
      "metadata": {
        "colab": {
          "base_uri": "https://localhost:8080/"
        },
        "id": "okuv3cKl5s0C",
        "outputId": "0e5f8494-b290-4c05-b4da-35d868905f99"
      },
      "execution_count": null,
      "outputs": [
        {
          "output_type": "stream",
          "name": "stdout",
          "text": [
            "['Name', 'Age', 'City']\n",
            "['John', '25', 'New York']\n",
            "['Alice', '30', 'Chicago']\n",
            "['Bob', '35', 'San Francisco']\n"
          ]
        }
      ]
    },
    {
      "cell_type": "code",
      "source": [
        "# Writing CSV file\n",
        "data = [\n",
        "    ['Name', 'Age', 'City'],\n",
        "    ['John', '25', 'New York'],\n",
        "    ['Alice', '30', 'Chicago'],\n",
        "    ['Bob', '35', 'San Francisco']\n",
        "]\n",
        "\n",
        "with open('/content/drive/MyDrive/LAPTOP DETAILS RECORD.csv', 'w', newline='') as file:\n",
        "    writer = csv.writer(file)\n",
        "    writer.writerows(data)\n"
      ],
      "metadata": {
        "id": "okf09iSi53Ny"
      },
      "execution_count": null,
      "outputs": []
    },
    {
      "cell_type": "code",
      "source": [
        "import pandas as pd\n",
        "df=pd.read_excel(r'/content/drive/MyDrive/employee sheet.csv')\n",
        "print(df)\n",
        "print('')"
      ],
      "metadata": {
        "colab": {
          "base_uri": "https://localhost:8080/"
        },
        "id": "vFUA0ywE7uvk",
        "outputId": "46281976-dfe2-43fe-93b9-ae5792d76fd0"
      },
      "execution_count": null,
      "outputs": [
        {
          "output_type": "stream",
          "name": "stdout",
          "text": [
            "  Employee Name  Employee ID  Salary\n",
            "0        Sakshi          101     800\n",
            "1        Aditya          102     800\n",
            "2         Omkar          103     800\n",
            "3         Onkar          104     900\n",
            "4       Srushti          105     900\n",
            "5        Anshul          106     900\n",
            "6         Sneha          107     900\n",
            "7        Pravin          108     900\n",
            "8          Ojas          109     900\n",
            "9     Vaishnavi          110     900\n",
            "\n"
          ]
        }
      ]
    },
    {
      "cell_type": "code",
      "source": [
        "#"
      ],
      "metadata": {
        "id": "NI-nwjLJ8BX_"
      },
      "execution_count": null,
      "outputs": []
    },
    {
      "cell_type": "code",
      "source": [
        "import csv\n",
        "\n",
        "# Reading CSV file\n",
        "with open('/content/drive/MyDrive/employee sheet.csv', 'r') as file:\n",
        "    reader = csv.reader(file)\n",
        "    print(reader)\n",
        "    #for row in reader:\n",
        "        # Process each row\n",
        "        #print(row)"
      ],
      "metadata": {
        "colab": {
          "base_uri": "https://localhost:8080/"
        },
        "id": "Of5ao4qj9r6y",
        "outputId": "cbff8158-19ef-4f94-89d5-7aa288ef4626"
      },
      "execution_count": null,
      "outputs": [
        {
          "output_type": "stream",
          "name": "stdout",
          "text": [
            "<_csv.reader object at 0x7fa927edadc0>\n"
          ]
        }
      ]
    },
    {
      "cell_type": "code",
      "source": [
        "#import pandas as pd\n",
        "#df=pd.read_csv(\"/content/drive/MyDrive/Fresher Data.csv.csv\")\n",
        "#df\n",
        "import csv\n",
        "with open(\"/content/drive/MyDrive/Fresher Data.csv.csv\",\"r\")as cs:\n",
        "  csv_reader=csv.reader(cs)\n",
        "  for line in csv_reader:\n",
        "    print(line)\n",
        "cs.close()\n",
        "\n"
      ],
      "metadata": {
        "colab": {
          "base_uri": "https://localhost:8080/"
        },
        "id": "2t6XkuBzfmyQ",
        "outputId": "dc70c60e-4350-4b89-81a0-a4fc225c7cda"
      },
      "execution_count": null,
      "outputs": [
        {
          "output_type": "stream",
          "name": "stdout",
          "text": [
            "['Cally', '2000', '74000', 'IT']\n"
          ]
        }
      ]
    },
    {
      "cell_type": "code",
      "source": [
        "import csv\n",
        "with open(\"/content/drive/MyDrive/Fresher Data.csv.csv\",'w')as cs:\n",
        "  pandas_writer=csv.writer(cs)\n",
        "  pandas_writer.writerow([ 'Cally', '2000','74000','IT'])\n",
        "  print(\"Data inserted successfully\")\n",
        "cs.close()"
      ],
      "metadata": {
        "id": "orWT75knk5YE"
      },
      "execution_count": null,
      "outputs": []
    }
  ],
  "metadata": {
    "colab": {
      "provenance": [],
      "include_colab_link": true
    },
    "kernelspec": {
      "display_name": "Python 3",
      "name": "python3"
    },
    "language_info": {
      "name": "python"
    }
  },
  "nbformat": 4,
  "nbformat_minor": 0
}