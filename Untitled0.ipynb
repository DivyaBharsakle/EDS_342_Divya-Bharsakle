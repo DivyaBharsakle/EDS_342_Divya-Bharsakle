{
  "nbformat": 4,
  "nbformat_minor": 0,
  "metadata": {
    "colab": {
      "provenance": [],
      "authorship_tag": "ABX9TyOUXIp7pOccfihW0936TJfa",
      "include_colab_link": true
    },
    "kernelspec": {
      "name": "python3",
      "display_name": "Python 3"
    },
    "language_info": {
      "name": "python"
    }
  },
  "cells": [
    {
      "cell_type": "markdown",
      "metadata": {
        "id": "view-in-github",
        "colab_type": "text"
      },
      "source": [
        "<a href=\"https://colab.research.google.com/github/DivyaBharsakle/EDS_342_Divya-Bharsakle/blob/main/Untitled0.ipynb\" target=\"_parent\"><img src=\"https://colab.research.google.com/assets/colab-badge.svg\" alt=\"Open In Colab\"/></a>"
      ]
    },
    {
      "cell_type": "code",
      "execution_count": null,
      "metadata": {
        "colab": {
          "base_uri": "https://localhost:8080/"
        },
        "id": "O0Ew4BWM8Zzj",
        "outputId": "10a5a578-7c90-4b18-b925-15bc97f467b7"
      },
      "outputs": [
        {
          "output_type": "stream",
          "name": "stdout",
          "text": [
            "[['801' '43.05' '27.79' '28.7' '27.79']\n",
            " ['802' '43.47' '28.52' '28.98' '27.89']\n",
            " ['803' '42.24' '28.16' '28.16' '25.63']\n",
            " ['804' '39.24' '26.16' '26.16' '26.16']\n",
            " ['805' '40.9' '26.03' '27.27' '25.65']\n",
            " ['806' '39.47' '26.31' '26.31' '25.21']\n",
            " ['807' '41.68' '25.63' '27.79' '25.46']\n",
            " ['808' '42.19' '27.61' '28.13' '26.21']\n",
            " ['809' '44.75' '28.35' '29.83' '28.21']\n",
            " ['810' '46.95' '28.88' '31.3' '28.53']]\n",
            "[['801' '28.48' '34.18' '30.56' '22.23']\n",
            " ['802' '28.1' '33.72' '30.68' '22.82']\n",
            " ['803' '26.16' '31.39' '28.2' '22.53']\n",
            " ['804' '26.16' '31.39' '28.78' '20.93']\n",
            " ['805' '26.1' '31.32' '28.22' '20.82']\n",
            " ['806' '25.45' '30.54' '27.73' '21.05']\n",
            " ['807' '26.16' '31.39' '28.01' '20.51']\n",
            " ['808' '27.44' '32.93' '28.83' '22.08']\n",
            " ['809' '28.63' '34.35' '31.03' '22.68']\n",
            " ['810' '30.35' '36.42' '31.38' '23.1']]\n",
            "[801, 802, 803, 804, 805, 806, 807, 808, 809, 810]\n",
            "[801, 802, 803, 804, 805, 806, 807, 808, 809, 810]\n",
            "[801, 802, 803, 804, 805, 806, 807, 808, 809, 810]\n",
            "[801, 802, 803, 804, 805, 806, 807, 808, 809, 810]\n",
            "[801, 802, 803, 804, 805, 806, 807, 808, 809, 810]\n",
            "[801, 802, 803, 804, 805, 806, 807, 808, 809, 810]\n",
            "[801, 802, 803, 804, 805, 806, 807, 808, 809, 810]\n",
            "[801, 802, 803, 804, 805, 806, 807, 808, 809, 810]\n",
            "Array1: [801 802 803 804 805 806 807 808 809 810]\n",
            "Array2: [801 802 803 804 805 806 807 808 809 810]\n",
            "Array3: [801 802 803 804 805 806 807 808 809 810]\n",
            "Array4: [801 802 803 804 805 806 807 808 809 810]\n",
            "Array5: [801 802 803 804 805 806 807 808 809 810]\n",
            "Array6: [801 802 803 804 805 806 807 808 809 810]\n",
            "Array7: [801 802 803 804 805 806 807 808 809 810]\n",
            "Array8: [801 802 803 804 805 806 807 808 809 810]\n"
          ]
        }
      ],
      "source": [
        "import numpy as np\n",
        "array9=np.loadtxt(\"/content/testmarks1.csv\",delimiter=\",\",dtype=str,skiprows=1)\n",
        "array10=np.loadtxt(\"/content/testmarks2.csv\",delimiter=\",\",dtype=str,skiprows=1)\n",
        "print(array9)\n",
        "print(array10)\n",
        "EDS=[]\n",
        "SON=[]\n",
        "DT=[]\n",
        "ET=[]\n",
        "SIC=[]\n",
        "AM=[]\n",
        "FE=[]\n",
        "IC=[]\n",
        "for i in array9:\n",
        "  EDS.append(int(i[0]))\n",
        "  SON.append(int(i[0]))\n",
        "  DT.append(int(i[0]))\n",
        "  ET.append(int(i[0]))\n",
        "print(EDS)\n",
        "print(SON)\n",
        "print(DT)\n",
        "print(ET)\n",
        "\n",
        "arr_EDS=np.array(EDS)\n",
        "arr_SON=np.array(SON)\n",
        "arr_DT=np.array(DT)\n",
        "arr_ET=np.array(ET)\n",
        "\n",
        "for i in array10:\n",
        "  SIC.append(int(i[0]))\n",
        "  AM.append(int(i[0]))\n",
        "  FE.append(int(i[0]))\n",
        "  IC.append(int(i[0]))\n",
        "print(SIC)\n",
        "print(AM)\n",
        "print(FE)\n",
        "print(IC)\n",
        "\n",
        "arr_SIC=np.array(SIC)\n",
        "arr_AM=np.array(AM)\n",
        "arr_FE=np.array(FE)\n",
        "arr_IC=np.array(IC)\n",
        "\n",
        "print(\"Array1:\",arr_EDS)\n",
        "print(\"Array2:\",arr_SON)\n",
        "print(\"Array3:\",arr_DT)\n",
        "print(\"Array4:\",arr_ET)\n",
        "print(\"Array5:\",arr_SIC)\n",
        "print(\"Array6:\",arr_AM)\n",
        "print(\"Array7:\",arr_FE)\n",
        "print(\"Array8:\",arr_IC)"
      ]
    },
    {
      "cell_type": "code",
      "source": [
        "print(np.add(EDS,SON))"
      ],
      "metadata": {
        "colab": {
          "base_uri": "https://localhost:8080/"
        },
        "id": "8TOzipvlCbmN",
        "outputId": "c7a671cd-b232-4802-93c9-46031c47c666"
      },
      "execution_count": null,
      "outputs": [
        {
          "output_type": "stream",
          "name": "stdout",
          "text": [
            "[1602 1604 1606 1608 1610 1612 1614 1616 1618 1620]\n"
          ]
        }
      ]
    },
    {
      "cell_type": "code",
      "source": [
        "print(np.multiply(EDS,SON))"
      ],
      "metadata": {
        "colab": {
          "base_uri": "https://localhost:8080/"
        },
        "id": "WMqO_ZZ5GW4n",
        "outputId": "f0e36884-638c-436a-bbd9-d50673889935"
      },
      "execution_count": null,
      "outputs": [
        {
          "output_type": "stream",
          "name": "stdout",
          "text": [
            "[641601 643204 644809 646416 648025 649636 651249 652864 654481 656100]\n"
          ]
        }
      ]
    },
    {
      "cell_type": "code",
      "source": [
        "print(np.divide(SON,EDS))"
      ],
      "metadata": {
        "colab": {
          "base_uri": "https://localhost:8080/"
        },
        "id": "Yk19Il-eGW7i",
        "outputId": "9d842a6e-f8ce-49df-bf8b-3e7b384244a8"
      },
      "execution_count": null,
      "outputs": [
        {
          "output_type": "stream",
          "name": "stdout",
          "text": [
            "[1. 1. 1. 1. 1. 1. 1. 1. 1. 1.]\n"
          ]
        }
      ]
    },
    {
      "cell_type": "code",
      "source": [],
      "metadata": {
        "id": "XNq8EkHyGW97"
      },
      "execution_count": null,
      "outputs": []
    },
    {
      "cell_type": "code",
      "source": [],
      "metadata": {
        "id": "P8Hcn_NlGXA9"
      },
      "execution_count": null,
      "outputs": []
    }
  ]
}