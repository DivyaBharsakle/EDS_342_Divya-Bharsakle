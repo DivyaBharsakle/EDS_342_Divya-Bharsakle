{
  "nbformat": 4,
  "nbformat_minor": 0,
  "metadata": {
    "colab": {
      "provenance": [],
      "authorship_tag": "ABX9TyO5m+xGcR7dogEKwcl4yzdp",
      "include_colab_link": true
    },
    "kernelspec": {
      "name": "python3",
      "display_name": "Python 3"
    },
    "language_info": {
      "name": "python"
    }
  },
  "cells": [
    {
      "cell_type": "markdown",
      "metadata": {
        "id": "view-in-github",
        "colab_type": "text"
      },
      "source": [
        "<a href=\"https://colab.research.google.com/github/DivyaBharsakle/EDS_342_Divya-Bharsakle/blob/main/Untitled9.ipynb\" target=\"_parent\"><img src=\"https://colab.research.google.com/assets/colab-badge.svg\" alt=\"Open In Colab\"/></a>"
      ]
    },
    {
      "cell_type": "code",
      "source": [
        "import pandas as pd\n",
        "import numpy as np\n",
        "\n",
        "# Read the file using pandas\n",
        "data = pd.read_csv('/content/Copy of coffee.csv')\n",
        "\n",
        "median_bags = data['Number of Bags'].median()\n",
        "print(\"Median of the number of bags:\", median_bags)\n",
        "\n",
        "mode_bags = data['Number of Bags'].mode().tolist()\n",
        "print(\"Mode of the number of bags:\", mode_bags)\n",
        "\n",
        "total_production = data['Number of Bags'].sum()\n",
        "print(\"Total production of coffee:\", total_production)\n",
        "\n",
        "mean_acidity = data['Acidity'].mean()\n",
        "print(\"Mean of Acidity:\", mean_acidity)\n",
        "\n",
        "lowest_flavor_grade = data['Flavor'].min()\n",
        "print(\"Lowest grade for flavor:\", lowest_flavor_grade)\n",
        "\n",
        "highest_moisture_level = data['Moisture Percentage'].max()\n",
        "print(\"Highest moisture level:\", highest_moisture_level)\n",
        "\n",
        "countries_yellow_green = len(data[data['Color'] == 'yellow-green'])\n",
        "print(\"Number of countries producing yellow-green color coffee:\", countries_yellow_green)\n",
        "\n",
        "countries_greenish = len(data[data['Color'] == 'greenish'])\n",
        "print(\"Number of countries producing greenish color coffee:\", countries_greenish)\n",
        "\n",
        "lowest_flavor_grade = data['Flavor'].min()\n",
        "print(\"Lowest grade for flavor:\", lowest_flavor_grade)\n",
        "\n",
        "countries_no_defect = len(data[data['Category Two Defects'] == 0])\n",
        "print(\"Number of countries that have no defect:\", countries_no_defect)\n",
        "\n"
      ],
      "metadata": {
        "colab": {
          "base_uri": "https://localhost:8080/"
        },
        "id": "SmSFWPcCg7jJ",
        "outputId": "fed410dd-66cf-4f6a-d9f0-a8cea326eabb"
      },
      "execution_count": null,
      "outputs": [
        {
          "output_type": "stream",
          "name": "stdout",
          "text": [
            "Median of the number of bags: 4.0\n",
            "Mode of the number of bags: [1]\n",
            "Total production of coffee: 1159\n",
            "Mean of Acidity: 8.01529411764706\n",
            "Lowest grade for flavor: 7.83\n",
            "Highest moisture level: 11.9\n",
            "Number of countries producing yellow-green color coffee: 2\n",
            "Number of countries producing greenish color coffee: 4\n",
            "Lowest grade for flavor: 7.83\n",
            "Number of countries that have no defect: 19\n"
          ]
        }
      ]
    },
    {
      "cell_type": "markdown",
      "source": [],
      "metadata": {
        "id": "WJx9WVjgm-K3"
      }
    }
  ]
}