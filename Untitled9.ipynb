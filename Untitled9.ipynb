{
  "cells": [
    {
      "cell_type": "markdown",
      "metadata": {
        "id": "view-in-github",
        "colab_type": "text"
      },
      "source": [
        "<a href=\"https://colab.research.google.com/github/DivyaBharsakle/EDS_342_Divya-Bharsakle/blob/main/Untitled9.ipynb\" target=\"_parent\"><img src=\"https://colab.research.google.com/assets/colab-badge.svg\" alt=\"Open In Colab\"/></a>"
      ]
    },
    {
      "cell_type": "code",
      "execution_count": null,
      "metadata": {
        "colab": {
          "base_uri": "https://localhost:8080/",
          "height": 515
        },
        "id": "1_LpYlSOw0HT",
        "outputId": "42be6cef-b0e6-4f81-c390-92fa136b7a4b"
      },
      "outputs": [
        {
          "name": "stdout",
          "output_type": "stream",
          "text": [
            "   Student ID         Name                            Email  Roll_Number Division     Branch        Club Attendance Percentage\n",
            "0       90014  Dnyaneshwar  dnyaneshwar.sirsat@mitaoe.ac.in          360        C   Chemical    Football                   80%\n",
            "1       90054       Sumati       sumati.rahate@mitaoe.ac.in          350        C  Mechanics     Fitness                   60%\n",
            "2       30045        Suraj          suraj.sani@mitaoe.ac.in          365        A      Civil  Basketball                   70%\n",
            "3       60034       Ishwar        ishwar.desai@mitaoe.ac.in          375        D       ENTC     Library                   90%\n",
            "4       90031      Praveen       praveen.lohan@mitaoe.ac.in          341        E   Computer         Art                   50%\n"
          ]
        },
        {
          "ename": "IndexError",
          "evalue": "ignored",
          "output_type": "error",
          "traceback": [
            "\u001b[0;31m---------------------------------------------------------------------------\u001b[0m",
            "\u001b[0;31mIndexError\u001b[0m                                Traceback (most recent call last)",
            "\u001b[0;32m<ipython-input-9-8772817d754b>\u001b[0m in \u001b[0;36m<cell line: 15>\u001b[0;34m()\u001b[0m\n\u001b[1;32m     13\u001b[0m \u001b[0;34m\u001b[0m\u001b[0m\n\u001b[1;32m     14\u001b[0m \u001b[0;31m# 5. Arrange them in descending order of their percentage of attendance\u001b[0m\u001b[0;34m\u001b[0m\u001b[0;34m\u001b[0m\u001b[0m\n\u001b[0;32m---> 15\u001b[0;31m \u001b[0msorted_by_percentage\u001b[0m \u001b[0;34m=\u001b[0m \u001b[0msorted\u001b[0m\u001b[0;34m(\u001b[0m\u001b[0mdata\u001b[0m\u001b[0;34m,\u001b[0m \u001b[0mkey\u001b[0m\u001b[0;34m=\u001b[0m\u001b[0;32mlambda\u001b[0m \u001b[0mx\u001b[0m\u001b[0;34m:\u001b[0m \u001b[0mfloat\u001b[0m\u001b[0;34m(\u001b[0m\u001b[0mx\u001b[0m\u001b[0;34m[\u001b[0m\u001b[0;36m8\u001b[0m\u001b[0;34m]\u001b[0m\u001b[0;34m[\u001b[0m\u001b[0;34m:\u001b[0m\u001b[0;34m-\u001b[0m\u001b[0;36m1\u001b[0m\u001b[0;34m]\u001b[0m\u001b[0;34m)\u001b[0m\u001b[0;34m,\u001b[0m \u001b[0mreverse\u001b[0m\u001b[0;34m=\u001b[0m\u001b[0;32mTrue\u001b[0m\u001b[0;34m)\u001b[0m\u001b[0;34m\u001b[0m\u001b[0;34m\u001b[0m\u001b[0m\n\u001b[0m\u001b[1;32m     16\u001b[0m \u001b[0mprint\u001b[0m\u001b[0;34m(\u001b[0m\u001b[0;34m\"Sorted data (Descending order of percentage of Attendance):\"\u001b[0m\u001b[0;34m)\u001b[0m\u001b[0;34m\u001b[0m\u001b[0;34m\u001b[0m\u001b[0m\n\u001b[1;32m     17\u001b[0m \u001b[0;32mfor\u001b[0m \u001b[0mstudent\u001b[0m \u001b[0;32min\u001b[0m \u001b[0msorted_by_percentage\u001b[0m\u001b[0;34m:\u001b[0m\u001b[0;34m\u001b[0m\u001b[0;34m\u001b[0m\u001b[0m\n",
            "\u001b[0;32m<ipython-input-9-8772817d754b>\u001b[0m in \u001b[0;36m<lambda>\u001b[0;34m(x)\u001b[0m\n\u001b[1;32m     13\u001b[0m \u001b[0;34m\u001b[0m\u001b[0m\n\u001b[1;32m     14\u001b[0m \u001b[0;31m# 5. Arrange them in descending order of their percentage of attendance\u001b[0m\u001b[0;34m\u001b[0m\u001b[0;34m\u001b[0m\u001b[0m\n\u001b[0;32m---> 15\u001b[0;31m \u001b[0msorted_by_percentage\u001b[0m \u001b[0;34m=\u001b[0m \u001b[0msorted\u001b[0m\u001b[0;34m(\u001b[0m\u001b[0mdata\u001b[0m\u001b[0;34m,\u001b[0m \u001b[0mkey\u001b[0m\u001b[0;34m=\u001b[0m\u001b[0;32mlambda\u001b[0m \u001b[0mx\u001b[0m\u001b[0;34m:\u001b[0m \u001b[0mfloat\u001b[0m\u001b[0;34m(\u001b[0m\u001b[0mx\u001b[0m\u001b[0;34m[\u001b[0m\u001b[0;36m8\u001b[0m\u001b[0;34m]\u001b[0m\u001b[0;34m[\u001b[0m\u001b[0;34m:\u001b[0m\u001b[0;34m-\u001b[0m\u001b[0;36m1\u001b[0m\u001b[0;34m]\u001b[0m\u001b[0;34m)\u001b[0m\u001b[0;34m,\u001b[0m \u001b[0mreverse\u001b[0m\u001b[0;34m=\u001b[0m\u001b[0;32mTrue\u001b[0m\u001b[0;34m)\u001b[0m\u001b[0;34m\u001b[0m\u001b[0;34m\u001b[0m\u001b[0m\n\u001b[0m\u001b[1;32m     16\u001b[0m \u001b[0mprint\u001b[0m\u001b[0;34m(\u001b[0m\u001b[0;34m\"Sorted data (Descending order of percentage of Attendance):\"\u001b[0m\u001b[0;34m)\u001b[0m\u001b[0;34m\u001b[0m\u001b[0;34m\u001b[0m\u001b[0m\n\u001b[1;32m     17\u001b[0m \u001b[0;32mfor\u001b[0m \u001b[0mstudent\u001b[0m \u001b[0;32min\u001b[0m \u001b[0msorted_by_percentage\u001b[0m\u001b[0;34m:\u001b[0m\u001b[0;34m\u001b[0m\u001b[0;34m\u001b[0m\u001b[0m\n",
            "\u001b[0;31mIndexError\u001b[0m: list index out of range"
          ]
        }
      ],
      "source": [
        "import pandas as pd\n",
        "df = pd.read_csv('/content/Complete_Students_Details.csv')\n",
        "print(df.to_string())\n",
        "\n",
        "data = [\n",
        "    [\"90014\", \"Dnyaneshwar\", \"dnyaneshwar.sirsat@mitaoe.ac.in\", 360, \"C\", \"Chemical\", \"Football\", \"80%\"],\n",
        "    [\"90054\", \"Sumati\", \"sumati.rahate@mitaoe.ac.in\", 350, \"C\", \"Mechanics\", \"Fitness\", \"60%\"],\n",
        "    [\"30045\", \"Suraj\", \"suraj.sani@mitaoe.ac.in\", 365, \"A\", \"Civil\", \"Basketball\", \"70%\"],\n",
        "    [\"60034\", \"Ishwar\", \"ishwar.desai@mitaoe.ac.in\", 375, \"D\", \"ENTC\", \"Library\", \"90%\"],\n",
        "    [\"90031\", \"Praveen\", \"praveen.lohan@mitaoe.ac.in\", 341, \"E\", \"Computer\", \"Art\", \"50%\"]\n",
        "]\n",
        "\n",
        "\n",
        "# 5. Arrange them in descending order of their percentage of attendance\n",
        "sorted_by_percentage = sorted(data, key=lambda x: float(x[8][:-1]), reverse=True)\n",
        "print(\"Sorted data (Descending order of percentage of Attendance):\")\n",
        "for student in sorted_by_percentage:\n",
        "    print(student)\n",
        "\n",
        "\n"
      ]
    },
    {
      "cell_type": "code",
      "execution_count": null,
      "metadata": {
        "id": "V5LugCkAy_MA"
      },
      "outputs": [],
      "source": []
    },
    {
      "cell_type": "code",
      "execution_count": null,
      "metadata": {
        "id": "HsDX41_ny_Pf"
      },
      "outputs": [],
      "source": []
    },
    {
      "cell_type": "code",
      "execution_count": null,
      "metadata": {
        "colab": {
          "base_uri": "https://localhost:8080/"
        },
        "id": "C0b3SEbmxSx7",
        "outputId": "96e05a91-0f6c-4176-b343-7ed08c1069a0"
      },
      "outputs": [
        {
          "name": "stdout",
          "output_type": "stream",
          "text": [
            "Total female students: 0\n",
            "Total male students: 0\n"
          ]
        }
      ],
      "source": []
    },
    {
      "cell_type": "code",
      "execution_count": null,
      "metadata": {
        "colab": {
          "background_save": true,
          "base_uri": "https://localhost:8080/",
          "height": 393
        },
        "id": "01KIPphyzAGw",
        "outputId": "bd6f111a-efc1-48c5-fa74-73c92fdd9904"
      },
      "outputs": [
        {
          "ename": "IndentationError",
          "evalue": "ignored",
          "output_type": "error",
          "traceback": [
            "\u001b[0;36m  File \u001b[0;32m\"<ipython-input-22-9f6e4363a644>\"\u001b[0;36m, line \u001b[0;32m31\u001b[0m\n\u001b[0;31m    if student[\"Branch\"] == \"Chemical\":\u001b[0m\n\u001b[0m    ^\u001b[0m\n\u001b[0;31mIndentationError\u001b[0m\u001b[0;31m:\u001b[0m unexpected indent\n"
          ]
        }
      ],
      "source": [
        "data = [\n",
        "    [\"90014\", \"Dnyaneshwar\", \"dnyaneshwar.sirsat@mitaoe.ac.in\", \"360\", \"C\", \"Chemical\", \"Football\", \"80%\"],\n",
        "    [\"90054\", \"Sumati\", \"sumati.rahate@mitaoe.ac.in\", \"350\", \"C\", \"Mechanics\", \"Fitness\", \"60%\"],\n",
        "    [\"30045\", \"Suraj\", \"suraj.sani@mitaoe.ac.in\", \"365\", \"A\", \"Civil\", \"Basketball\", \"70%\"],\n",
        "    [\"60034\", \"Ishwar\", \"ishwar.desai@mitaoe.ac.in\", \"375\", \"D\", \"ENTC\", \"Library\", \"90%\"],\n",
        "    [\"90031\", \"Praveen\", \"praveen.lohan@mitaoe.ac.in\", \"341\", \"E\", \"Computer\", \"Art\", \"50%\"]\n",
        "]\n",
        "\n",
        "# 1. Sort them ID wise in ascending order\n",
        "sorted_data = sorted(data, key=lambda x: int(x[0]))\n",
        "print(\"Sorted by ID in ascending order:\")\n",
        "for item in sorted_data:\n",
        "    print(item)\n",
        "\n",
        "print()\n",
        "\n",
        "# 2. Print Name of student having the least attendance percentage\n",
        "min_attendance = 100\n",
        "student_with_least_attendance = \"\"\n",
        "\n",
        "for row in data[1:]:\n",
        "    attendance_percentage = int(row[-1].rstrip('%'))\n",
        "    if attendance_percentage < min_attendance:\n",
        "        min_attendance = attendance_percentage\n",
        "        student_with_least_attendance = row[1]\n",
        "\n",
        "print(\"Student with the least attendance percentage:\", student_with_least_attendance)\n",
        "\n",
        "# 3. Print student having smallest Email\n",
        "smallest_email = float('inf')\n",
        "student_with_smallest_email = \"\"\n",
        "for row in data[1:]:\n",
        "    email_length = len(row.split(\",\")[2])\n",
        "    if email_length < smallest_email:\n",
        "        smallest_email = email_length\n",
        "        student_with_smallest_email = row.split(\",\")[1]\n",
        "print(\"Student with the smallest Email:\", student_with_smallest_email)\n",
        "\n",
        "# 4. Determine who has the highest percentage of attendance\n",
        "max_attendance = max(data, key=lambda x: float(x[7].rstrip(\"%\")))\n",
        "print(\"Student with the highest attendance percentage:\")\n",
        "print(max_attendance)\n",
        "\n",
        "print()\n",
        "\n",
        "# 5. Print all students' names with their club details\n",
        "print(\"Students with their club details:\")\n",
        "for item in data:\n",
        "    print(f\"Name: {item[1]}, Club: {item[6]}\")\n",
        "\n",
        "print()\n",
        "\n",
        "# 6. Print Students having roll number from 340 to 365\n",
        "print(\"Students with roll numbers from 340 to 365:\")\n",
        "\n",
        "for row in data[1:]:\n",
        "    roll_number = int(row[3])\n",
        "    if 340 <= roll_number <= 361:\n",
        "        print(row[1])\n",
        "\n",
        "# 7. Print student who plays Football\n",
        "print(\"Students who play Football:\")\n",
        "\n",
        "for row in data[1:]:\n",
        "    if row[6] == \"Football\":\n",
        "        print(row[1])\n",
        "\n",
        "# 8. Print students with Chemical branch\n",
        "print(\"Students with Chemical branch:\")\n",
        "for item in data:\n",
        "    if item[5] in [\"Chemical\"]:\n",
        "        print(item)\n",
        "\n",
        "print()\n",
        "\n",
        "# 9. Print the students with A, B, C division\n",
        "print(\"Students with A, B, or C division:\")\n",
        "for item in data:\n",
        "    if item[4] in [\"A\", \"B\", \"C\"]:\n",
        "        print(item)\n",
        "\n",
        "print()\n",
        "\n",
        "# 10. Arrange in ascending order of the roll numbers with other details\n",
        "sorted_data = sorted(data, key=lambda x: int(x[3]))\n",
        "print(\"Sorted by roll number in ascending order:\")\n",
        "for item in sorted_data:\n",
        "    print(item)\n"
      ]
    }
  ],
  "metadata": {
    "colab": {
      "provenance": [],
      "authorship_tag": "ABX9TyNlOcgbMn3vg7F2+AtI15XS",
      "include_colab_link": true
    },
    "kernelspec": {
      "display_name": "Python 3",
      "name": "python3"
    },
    "language_info": {
      "name": "python"
    }
  },
  "nbformat": 4,
  "nbformat_minor": 0
}