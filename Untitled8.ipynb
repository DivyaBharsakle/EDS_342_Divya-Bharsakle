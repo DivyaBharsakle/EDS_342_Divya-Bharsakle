{
  "nbformat": 4,
  "nbformat_minor": 0,
  "metadata": {
    "colab": {
      "provenance": [],
      "authorship_tag": "ABX9TyPpM3fOT5EIkCKLY5Gno0Z3",
      "include_colab_link": true
    },
    "kernelspec": {
      "name": "python3",
      "display_name": "Python 3"
    },
    "language_info": {
      "name": "python"
    }
  },
  "cells": [
    {
      "cell_type": "markdown",
      "metadata": {
        "id": "view-in-github",
        "colab_type": "text"
      },
      "source": [
        "<a href=\"https://colab.research.google.com/github/DivyaBharsakle/EDS_342_Divya-Bharsakle/blob/main/Untitled8.ipynb\" target=\"_parent\"><img src=\"https://colab.research.google.com/assets/colab-badge.svg\" alt=\"Open In Colab\"/></a>"
      ]
    },
    {
      "cell_type": "code",
      "source": [
        "import pandas as pd\n",
        "\n",
        "df = pd.read_csv('/content/StudentDetails.csv')\n",
        "\n",
        "print(df.to_string())"
      ],
      "metadata": {
        "colab": {
          "base_uri": "https://localhost:8080/"
        },
        "id": "E0S_IcZ2kvjs",
        "outputId": "80cadb82-58a3-42d9-b288-7109c2b394e8"
      },
      "execution_count": null,
      "outputs": [
        {
          "output_type": "stream",
          "name": "stdout",
          "text": [
            "     Name  Roll no  Gender    Phone no  CGPA Division  Weight  Height Percentage      Branch\n",
            "0   Sumit      523    Male  9886475128     8        E      40     159        80%    Chemical\n",
            "1  Aditya      154    Male  8734951267     9        A      50     169        90%       Civil\n",
            "2    Yash      290    Male  9147653492    10        B      48     164       100%    Computer\n",
            "3    Isha      304  Female  8600597314     6        C      42     160     60.00%  Mechanical\n",
            "4    Riya      409  Female  9568721648     7        D      47     150        70%        ENTC\n"
          ]
        }
      ]
    },
    {
      "cell_type": "code",
      "execution_count": null,
      "metadata": {
        "colab": {
          "base_uri": "https://localhost:8080/"
        },
        "id": "r6z8kYDojBdj",
        "outputId": "3af35dd0-5a57-4878-dce4-70662a1de1c2"
      },
      "outputs": [
        {
          "output_type": "stream",
          "name": "stdout",
          "text": [
            "Sorted data (Roll number wise):\n",
            "['Aditya', 154, 'Male', 8734951267, 9, 'A', 50, 169, '90%', 'Civil']\n",
            "['Yash', 290, 'Male', 9147653492, 10, 'B', 48, 164, '100%', 'Computer']\n",
            "['Isha', 304, 'Female', 8600597314, 6, 'C', 42, 160, '60.00%', 'Mechanical']\n",
            "['Riya', 409, 'Female', 9568721648, 7, 'D', 47, 150, '70%', 'ENTC']\n",
            "['Sumit', 523, 'Male', 9886475128, 8, 'E', 40, 159, '80%', 'Chemical']\n"
          ]
        }
      ],
      "source": [
        "data = [\n",
        "    [\"Sumit\", 523, \"Male\", 9886475128, 8, \"E\", 40, 159, \"80%\", \"Chemical\"],\n",
        "    [\"Aditya\", 154, \"Male\", 8734951267, 9, \"A\", 50, 169, \"90%\", \"Civil\"],\n",
        "    [\"Yash\", 290, \"Male\", 9147653492, 10, \"B\", 48, 164, \"100%\", \"Computer\"],\n",
        "    [\"Isha\", 304, \"Female\", 8600597314, 6, \"C\", 42, 160, \"60.00%\", \"Mechanical\"],\n",
        "    [\"Riya\", 409, \"Female\", 9568721648, 7, \"D\", 47, 150, \"70%\", \"ENTC\"]\n",
        "]\n",
        "\n",
        "# 1. Sort them roll number wise in ascending order\n",
        "sorted_data = sorted(data, key=lambda x: x[1])\n",
        "print(\"Sorted data (Roll number wise):\")\n",
        "for student in sorted_data:\n",
        "    print(student)"
      ]
    },
    {
      "cell_type": "code",
      "source": [
        "# 2. How many female students are there in total\n",
        "female_students = sum(1 for student in data if student[2] == \"Female\")\n",
        "print(\"Total female students:\", female_students)"
      ],
      "metadata": {
        "colab": {
          "base_uri": "https://localhost:8080/"
        },
        "id": "MgYgbMuelBy7",
        "outputId": "c5216aa6-0017-4b93-bf0e-c759b71931df"
      },
      "execution_count": null,
      "outputs": [
        {
          "output_type": "stream",
          "name": "stdout",
          "text": [
            "Total female students: 2\n"
          ]
        }
      ]
    },
    {
      "cell_type": "code",
      "source": [
        "# 3. How many male students are there in total\n",
        "male_students = sum(1 for student in data if student[2] == \"Male\")\n",
        "print(\"Total male students:\", male_students)"
      ],
      "metadata": {
        "colab": {
          "base_uri": "https://localhost:8080/"
        },
        "id": "59adbdQnlNoP",
        "outputId": "58009b51-e597-444b-b686-2593f10629d8"
      },
      "execution_count": null,
      "outputs": [
        {
          "output_type": "stream",
          "name": "stdout",
          "text": [
            "Total male students: 3\n"
          ]
        }
      ]
    },
    {
      "cell_type": "code",
      "source": [
        "# 4. Determine who has the highest CGPA\n",
        "highest_cgpa_student = max(data, key=lambda x: x[4])\n",
        "print(\"Student with the highest CGPA:\", highest_cgpa_student[0])"
      ],
      "metadata": {
        "colab": {
          "base_uri": "https://localhost:8080/"
        },
        "id": "Rjt_wzpWlNrt",
        "outputId": "dd6f08d6-af00-49af-9574-a297b82697a0"
      },
      "execution_count": null,
      "outputs": [
        {
          "output_type": "stream",
          "name": "stdout",
          "text": [
            "Student with the highest CGPA: Yash\n"
          ]
        }
      ]
    },
    {
      "cell_type": "code",
      "source": [
        "# 5. Arrange them in descending order of their percentage\n",
        "sorted_by_percentage = sorted(data, key=lambda x: float(x[8][:-1]), reverse=True)\n",
        "print(\"Sorted data (Descending order of percentage):\")\n",
        "for student in sorted_by_percentage:\n",
        "    print(student)"
      ],
      "metadata": {
        "colab": {
          "base_uri": "https://localhost:8080/"
        },
        "id": "QQfRpzf3lNvt",
        "outputId": "cf7930d1-f39c-4d72-f851-b8ee0938640a"
      },
      "execution_count": null,
      "outputs": [
        {
          "output_type": "stream",
          "name": "stdout",
          "text": [
            "Sorted data (Descending order of percentage):\n",
            "['Yash', 290, 'Male', 9147653492, 10, 'B', 48, 164, '100%', 'Computer']\n",
            "['Aditya', 154, 'Male', 8734951267, 9, 'A', 50, 169, '90%', 'Civil']\n",
            "['Sumit', 523, 'Male', 9886475128, 8, 'E', 40, 159, '80%', 'Chemical']\n",
            "['Riya', 409, 'Female', 9568721648, 7, 'D', 47, 150, '70%', 'ENTC']\n",
            "['Isha', 304, 'Female', 8600597314, 6, 'C', 42, 160, '60.00%', 'Mechanical']\n"
          ]
        }
      ]
    },
    {
      "cell_type": "code",
      "source": [
        "# 6. Sort them from highest to lowest Weight\n",
        "sorted_by_weight = sorted(data, key=lambda x: x[6], reverse=True)\n",
        "print(\"Sorted data (Highest to lowest Weight):\")\n",
        "for student in sorted_by_weight:\n",
        "    print(student)\n"
      ],
      "metadata": {
        "colab": {
          "base_uri": "https://localhost:8080/"
        },
        "id": "fv2-oWDTlN0n",
        "outputId": "45f8dbda-2863-418f-cac3-48c13658698e"
      },
      "execution_count": null,
      "outputs": [
        {
          "output_type": "stream",
          "name": "stdout",
          "text": [
            "Sorted data (Highest to lowest Weight):\n",
            "['Aditya', 154, 'Male', 8734951267, 9, 'A', 50, 169, '90%', 'Civil']\n",
            "['Yash', 290, 'Male', 9147653492, 10, 'B', 48, 164, '100%', 'Computer']\n",
            "['Riya', 409, 'Female', 9568721648, 7, 'D', 47, 150, '70%', 'ENTC']\n",
            "['Isha', 304, 'Female', 8600597314, 6, 'C', 42, 160, '60.00%', 'Mechanical']\n",
            "['Sumit', 523, 'Male', 9886475128, 8, 'E', 40, 159, '80%', 'Chemical']\n"
          ]
        }
      ]
    },
    {
      "cell_type": "code",
      "source": [
        "# 7. Sort them from lowest to highest Height\n",
        "sorted_by_height = sorted(data, key=lambda x: x[7])\n",
        "print(\"Sorted data (Lowest to highest Height):\")\n",
        "for student in sorted_by_height:\n",
        "    print(student)"
      ],
      "metadata": {
        "colab": {
          "base_uri": "https://localhost:8080/"
        },
        "id": "_owLkJEolN5I",
        "outputId": "1d2a7407-178a-454b-da1a-a6117d55925e"
      },
      "execution_count": null,
      "outputs": [
        {
          "output_type": "stream",
          "name": "stdout",
          "text": [
            "Sorted data (Lowest to highest Height):\n",
            "['Riya', 409, 'Female', 9568721648, 7, 'D', 47, 150, '70%', 'ENTC']\n",
            "['Sumit', 523, 'Male', 9886475128, 8, 'E', 40, 159, '80%', 'Chemical']\n",
            "['Isha', 304, 'Female', 8600597314, 6, 'C', 42, 160, '60.00%', 'Mechanical']\n",
            "['Yash', 290, 'Male', 9147653492, 10, 'B', 48, 164, '100%', 'Computer']\n",
            "['Aditya', 154, 'Male', 8734951267, 9, 'A', 50, 169, '90%', 'Civil']\n"
          ]
        }
      ]
    },
    {
      "cell_type": "code",
      "source": [
        "# 8. Print students with Civil, Chemical Branch\n",
        "civil_chemical_students = [student for student in data if student[9] in [\"Civil\", \"Chemical\"]]\n",
        "print(\"Students with Civil or Chemical Branch:\")\n",
        "for student in civil_chemical_students:\n",
        "    print(student)"
      ],
      "metadata": {
        "colab": {
          "base_uri": "https://localhost:8080/"
        },
        "id": "6aPOTeHylcTt",
        "outputId": "9b26f95a-dd7b-4512-cccc-74df309108a9"
      },
      "execution_count": null,
      "outputs": [
        {
          "output_type": "stream",
          "name": "stdout",
          "text": [
            "Students with Civil or Chemical Branch:\n",
            "['Sumit', 523, 'Male', 9886475128, 8, 'E', 40, 159, '80%', 'Chemical']\n",
            "['Aditya', 154, 'Male', 8734951267, 9, 'A', 50, 169, '90%', 'Civil']\n"
          ]
        }
      ]
    },
    {
      "cell_type": "code",
      "source": [
        "# 9. Print the students with C division\n",
        "c_division_students = [student for student in data if student[5] == \"C\"]\n",
        "print(\"Students with C division:\")\n",
        "for student in c_division_students:\n",
        "    print(student)"
      ],
      "metadata": {
        "colab": {
          "base_uri": "https://localhost:8080/"
        },
        "id": "wepYjDhRlcXH",
        "outputId": "b73d6a43-30cd-43a1-cd36-745c03b30d39"
      },
      "execution_count": null,
      "outputs": [
        {
          "output_type": "stream",
          "name": "stdout",
          "text": [
            "Students with C division:\n",
            "['Isha', 304, 'Female', 8600597314, 6, 'C', 42, 160, '60.00%', 'Mechanical']\n"
          ]
        }
      ]
    },
    {
      "cell_type": "code",
      "source": [
        "# 10. Print name and percentage of the student with the highest CGPA\n",
        "highest_cgpa_student = max(data, key=lambda x: x[4])\n",
        "print(\"Name and percentage of the student with the highest CGPA:\")\n",
        "print(\"Name:\", highest_cgpa_student[0])\n",
        "print(\"Percentage:\", highest_cgpa_student[8])"
      ],
      "metadata": {
        "colab": {
          "base_uri": "https://localhost:8080/"
        },
        "id": "XCwp4pEHlcaM",
        "outputId": "fa38d8b2-bbd6-4ff0-df3e-29a74a60d242"
      },
      "execution_count": null,
      "outputs": [
        {
          "output_type": "stream",
          "name": "stdout",
          "text": [
            "Name and percentage of the student with the highest CGPA:\n",
            "Name: Yash\n",
            "Percentage: 100%\n"
          ]
        }
      ]
    },
    {
      "cell_type": "code",
      "source": [
        "data = [\n",
        "    [\"Sumit\", 523, \"Male\", 9886475128, 8, \"E\", 40, 159, \"80%\", \"Chemical\"],\n",
        "    [\"Aditya\", 154, \"Male\", 8734951267, 9, \"A\", 50, 169, \"90%\", \"Civil\"],\n",
        "    [\"Yash\", 290, \"Male\", 9147653492, 10, \"B\", 48, 164, \"100%\", \"Computer\"],\n",
        "    [\"Isha\", 304, \"Female\", 8600597314, 6, \"C\", 42, 160, \"60.00%\", \"Mechanical\"],\n",
        "    [\"Riya\", 409, \"Female\", 9568721648, 7, \"D\", 47, 150, \"70%\", \"ENTC\"]\n",
        "]\n",
        "\n",
        "# 1. Sort them roll number wise in ascending order\n",
        "sorted_data = sorted(data, key=lambda x: x[1])\n",
        "print(\"Sorted data (Roll number wise):\")\n",
        "for student in sorted_data:\n",
        "    print(student)\n",
        "\n",
        "# 2. How many female students are there in total\n",
        "female_students = sum(1 for student in data if student[2] == \"Female\")\n",
        "print(\"Total female students:\", female_students)\n",
        "\n",
        "# 3. How many male students are there in total\n",
        "male_students = sum(1 for student in data if student[2] == \"Male\")\n",
        "print(\"Total male students:\", male_students)\n",
        "\n",
        "# 4. Determine who has the highest CGPA\n",
        "highest_cgpa_student = max(data, key=lambda x: x[4])\n",
        "print(\"Student with the highest CGPA:\", highest_cgpa_student[0])\n",
        "\n",
        "# 5. Arrange them in descending order of their percentage\n",
        "sorted_by_percentage = sorted(data, key=lambda x: float(x[8][:-1]), reverse=True)\n",
        "print(\"Sorted data (Descending order of percentage):\")\n",
        "for student in sorted_by_percentage:\n",
        "    print(student)\n",
        "\n",
        "# 6. Sort them from highest to lowest Weight\n",
        "sorted_by_weight = sorted(data, key=lambda x: x[6], reverse=True)\n",
        "print(\"Sorted data (Highest to lowest Weight):\")\n",
        "for student in sorted_by_weight:\n",
        "    print(student)\n",
        "\n",
        "# 7. Sort them from lowest to highest Height\n",
        "sorted_by_height = sorted(data, key=lambda x: x[7])\n",
        "print(\"Sorted data (Lowest to highest Height):\")\n",
        "for student in sorted_by_height:\n",
        "    print(student)\n",
        "\n",
        "# 8. Print students with Civil, Chemical Branch\n",
        "civil_chemical_students = [student for student in data if student[9] in [\"Civil\", \"Chemical\"]]\n",
        "print(\"Students with Civil or Chemical Branch:\")\n",
        "for student in civil_chemical_students:\n",
        "    print(student)\n",
        "\n",
        "# 9. Print the students with C division\n",
        "c_division_students = [student for student in data if student[5] == \"C\"]\n",
        "print(\"Students with C division:\")\n",
        "for student in c_division_students:\n",
        "    print(student)\n",
        "\n",
        "# 10. Print name and percentage of the student with the highest CGPA\n",
        "highest_cgpa_student = max(data, key=lambda x: x[4])\n",
        "print(\"Name and percentage of the student with the highest CGPA:\")\n",
        "print(\"Name:\", highest_cgpa_student[0])\n",
        "print(\"Percentage:\", highest_cgpa_student[8])\n"
      ],
      "metadata": {
        "colab": {
          "base_uri": "https://localhost:8080/"
        },
        "id": "3EaCfSSIoTfg",
        "outputId": "53da13e9-736c-4cd2-bd4c-92d0c4878251"
      },
      "execution_count": null,
      "outputs": [
        {
          "output_type": "stream",
          "name": "stdout",
          "text": [
            "Sorted data (Roll number wise):\n",
            "['Aditya', 154, 'Male', 8734951267, 9, 'A', 50, 169, '90%', 'Civil']\n",
            "['Yash', 290, 'Male', 9147653492, 10, 'B', 48, 164, '100%', 'Computer']\n",
            "['Isha', 304, 'Female', 8600597314, 6, 'C', 42, 160, '60.00%', 'Mechanical']\n",
            "['Riya', 409, 'Female', 9568721648, 7, 'D', 47, 150, '70%', 'ENTC']\n",
            "['Sumit', 523, 'Male', 9886475128, 8, 'E', 40, 159, '80%', 'Chemical']\n",
            "Total female students: 2\n",
            "Total male students: 3\n",
            "Student with the highest CGPA: Yash\n",
            "Sorted data (Descending order of percentage):\n",
            "['Yash', 290, 'Male', 9147653492, 10, 'B', 48, 164, '100%', 'Computer']\n",
            "['Aditya', 154, 'Male', 8734951267, 9, 'A', 50, 169, '90%', 'Civil']\n",
            "['Sumit', 523, 'Male', 9886475128, 8, 'E', 40, 159, '80%', 'Chemical']\n",
            "['Riya', 409, 'Female', 9568721648, 7, 'D', 47, 150, '70%', 'ENTC']\n",
            "['Isha', 304, 'Female', 8600597314, 6, 'C', 42, 160, '60.00%', 'Mechanical']\n",
            "Sorted data (Highest to lowest Weight):\n",
            "['Aditya', 154, 'Male', 8734951267, 9, 'A', 50, 169, '90%', 'Civil']\n",
            "['Yash', 290, 'Male', 9147653492, 10, 'B', 48, 164, '100%', 'Computer']\n",
            "['Riya', 409, 'Female', 9568721648, 7, 'D', 47, 150, '70%', 'ENTC']\n",
            "['Isha', 304, 'Female', 8600597314, 6, 'C', 42, 160, '60.00%', 'Mechanical']\n",
            "['Sumit', 523, 'Male', 9886475128, 8, 'E', 40, 159, '80%', 'Chemical']\n",
            "Sorted data (Lowest to highest Height):\n",
            "['Riya', 409, 'Female', 9568721648, 7, 'D', 47, 150, '70%', 'ENTC']\n",
            "['Sumit', 523, 'Male', 9886475128, 8, 'E', 40, 159, '80%', 'Chemical']\n",
            "['Isha', 304, 'Female', 8600597314, 6, 'C', 42, 160, '60.00%', 'Mechanical']\n",
            "['Yash', 290, 'Male', 9147653492, 10, 'B', 48, 164, '100%', 'Computer']\n",
            "['Aditya', 154, 'Male', 8734951267, 9, 'A', 50, 169, '90%', 'Civil']\n",
            "Students with Civil or Chemical Branch:\n",
            "['Sumit', 523, 'Male', 9886475128, 8, 'E', 40, 159, '80%', 'Chemical']\n",
            "['Aditya', 154, 'Male', 8734951267, 9, 'A', 50, 169, '90%', 'Civil']\n",
            "Students with C division:\n",
            "['Isha', 304, 'Female', 8600597314, 6, 'C', 42, 160, '60.00%', 'Mechanical']\n",
            "Name and percentage of the student with the highest CGPA:\n",
            "Name: Yash\n",
            "Percentage: 100%\n"
          ]
        }
      ]
    }
  ]
}