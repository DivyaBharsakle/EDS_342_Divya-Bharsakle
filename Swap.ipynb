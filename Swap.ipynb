{
  "nbformat": 4,
  "nbformat_minor": 0,
  "metadata": {
    "colab": {
      "provenance": [],
      "authorship_tag": "ABX9TyPrgwW+692HbSMdU/r6+s6s",
      "include_colab_link": true
    },
    "kernelspec": {
      "name": "python3",
      "display_name": "Python 3"
    },
    "language_info": {
      "name": "python"
    }
  },
  "cells": [
    {
      "cell_type": "markdown",
      "metadata": {
        "id": "view-in-github",
        "colab_type": "text"
      },
      "source": [
        "<a href=\"https://colab.research.google.com/github/DivyaBharsakle/EDS_342_Divya-Bharsakle/blob/main/Swap.ipynb\" target=\"_parent\"><img src=\"https://colab.research.google.com/assets/colab-badge.svg\" alt=\"Open In Colab\"/></a>"
      ]
    },
    {
      "cell_type": "code",
      "execution_count": null,
      "metadata": {
        "colab": {
          "base_uri": "https://localhost:8080/"
        },
        "id": "6GvxfsqoqiCL",
        "outputId": "c8469070-752a-43c8-f2c0-0c895cf042cd"
      },
      "outputs": [
        {
          "output_type": "stream",
          "name": "stdout",
          "text": [
            "Enter value : 21\n",
            "Enter value : 98\n",
            "Before swapping a : 21\n",
            "Before swapping b : 98\n",
            "After swapping a becomes : 98\n",
            "After swapping b becomes : 21\n"
          ]
        }
      ],
      "source": [
        "def swap():\n",
        "    x=int(input('Enter value : '))\n",
        "    y=int(input('Enter value : '))\n",
        "    print('Before swapping a :',x)\n",
        "    print('Before swapping b :',y)\n",
        "    x,y=y,x\n",
        "    print('After swapping a becomes :',x)\n",
        "    print('After swapping b becomes :',y)\n",
        "swap()"
      ]
    },
    {
      "cell_type": "code",
      "source": [],
      "metadata": {
        "id": "vkOGB8TTyd6M"
      },
      "execution_count": null,
      "outputs": []
    }
  ]
}