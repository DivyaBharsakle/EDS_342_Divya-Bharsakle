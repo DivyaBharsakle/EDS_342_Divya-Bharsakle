{
  "nbformat": 4,
  "nbformat_minor": 0,
  "metadata": {
    "colab": {
      "provenance": [],
      "authorship_tag": "ABX9TyMU78ueoJiFxzBEA0rUEDUY",
      "include_colab_link": true
    },
    "kernelspec": {
      "name": "python3",
      "display_name": "Python 3"
    },
    "language_info": {
      "name": "python"
    }
  },
  "cells": [
    {
      "cell_type": "markdown",
      "metadata": {
        "id": "view-in-github",
        "colab_type": "text"
      },
      "source": [
        "<a href=\"https://colab.research.google.com/github/DivyaBharsakle/EDS_342_Divya-Bharsakle/blob/main/Untitled5.ipynb\" target=\"_parent\"><img src=\"https://colab.research.google.com/assets/colab-badge.svg\" alt=\"Open In Colab\"/></a>"
      ]
    },
    {
      "cell_type": "code",
      "execution_count": null,
      "metadata": {
        "id": "wH2vipAJ7VtJ"
      },
      "outputs": [],
      "source": [
        "import csv\n",
        "from datetime import date\n",
        "\n",
        "def calculate(birthdate):\n",
        "  today - date.today()\n",
        "  age = today.year - birthdate.year - ((today.month, today.day) < (birthDate.month, birthDate.day))\n",
        "  return age\n",
        "\n",
        "f1 = open(\"data1.csv\",\"r\")\n",
        "\n",
        "data = list(csv.reader(f1))\n",
        "bdate = []\n",
        "age = []\n",
        "dollars = []\n",
        "\n",
        "for i in range(len(data)):\n",
        "  #print(data[i][2])\n",
        "  bdate.append(datetime.strptime(data[i][1], \"%m/%d/%Y\"),date())\n",
        "\n",
        "for i in range(len(data)):\n",
        "  age.append(calculateAge(bdate[i]))\n",
        "  dollars.append(float(data[i][2])/82)\n",
        "print(dollars)\n",
        "print(\"Age\",age)\n",
        "\n",
        "f1.close()"
      ]
    }
  ]
}