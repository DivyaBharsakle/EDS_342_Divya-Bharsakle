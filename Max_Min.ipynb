{
  "nbformat": 4,
  "nbformat_minor": 0,
  "metadata": {
    "colab": {
      "provenance": [],
      "authorship_tag": "ABX9TyNvmXMOX9bQIKQ9h9pQMVb3",
      "include_colab_link": true
    },
    "kernelspec": {
      "name": "python3",
      "display_name": "Python 3"
    },
    "language_info": {
      "name": "python"
    }
  },
  "cells": [
    {
      "cell_type": "markdown",
      "metadata": {
        "id": "view-in-github",
        "colab_type": "text"
      },
      "source": [
        "<a href=\"https://colab.research.google.com/github/DivyaBharsakle/EDS_342_Divya-Bharsakle/blob/main/Max_Min.ipynb\" target=\"_parent\"><img src=\"https://colab.research.google.com/assets/colab-badge.svg\" alt=\"Open In Colab\"/></a>"
      ]
    },
    {
      "cell_type": "code",
      "execution_count": null,
      "metadata": {
        "colab": {
          "base_uri": "https://localhost:8080/"
        },
        "id": "65MdsgYBBo-z",
        "outputId": "fc5438c7-b4c7-43bf-86cf-f517606acee3"
      },
      "outputs": [
        {
          "output_type": "stream",
          "name": "stdout",
          "text": [
            "\n",
            "\n",
            "File1 Contents: [['1', 'A', 'Namrata', '9'], ['2', 'B', 'Ashutosh', '8'], ['3', 'C', 'Divya', '10'], ['4', 'D', 'Gungun', '7']]\n",
            "\n",
            "\n",
            "File2 Contents: [['1', 'Namrata', '90'], ['2', 'Ashutosh', '80'], ['3', 'Divya', '100'], ['4', 'Gungun', '70']]\n",
            "[['1', 'A', 'Namrata', '9', '1', 'Namrata', '90'], ['2', 'B', 'Ashutosh', '8', '2', 'Ashutosh', '80'], ['3', 'C', 'Divya', '10', '3', 'Divya', '100'], ['4', 'D', 'Gungun', '7', '4', 'Gungun', '70']]\n",
            "sorted Data: [['3', 'C', 'Divya', '10', '3', 'Divya', '100'], ['1', 'A', 'Namrata', '9', '1', 'Namrata', '90'], ['2', 'B', 'Ashutosh', '8', '2', 'Ashutosh', '80'], ['4', 'D', 'Gungun', '7', '4', 'Gungun', '70']]\n",
            "\n",
            "\n",
            "student 1 C\n",
            " student 2 A\n",
            " student 3 B\n",
            "student 4 D\n",
            "Maximum 9\n",
            "Minimum: 9\n",
            "Total is :  9\n",
            "average is: 9.0\n",
            "Maximum 9\n",
            "Minimum: 8\n",
            "Total is :  17\n",
            "average is: 8.5\n",
            "Maximum 10\n",
            "Minimum: 8\n",
            "Total is :  27\n",
            "average is: 9.0\n",
            "Maximum 10\n",
            "Minimum: 7\n",
            "Total is :  34\n",
            "average is: 8.5\n"
          ]
        }
      ],
      "source": [
        "import csv\n",
        "def top_4_student(d3):\n",
        "  d3.sort(key = lambda x: int(x[3]),reverse=True)\n",
        "  print(\"sorted Data:\",d3)\n",
        "\n",
        "  print(\"\\n\\nstudent 1\",d3[0][1])\n",
        "  print(\" student 2\",d3[1][1])\n",
        "  print(\" student 3\",d3[2][1])\n",
        "  print(\"student 4\",d3[3][1])\n",
        "\n",
        "\n",
        "f1 = open(\"/content/342_CGPA.csv\",\"r\")\n",
        "f2 = open(\"/content/342_percentage.csv\",\"r\")\n",
        "f3 = open(\"stud_result.csv\",\"w\")\n",
        "\n",
        "d1=list(csv.reader(f1,delimiter=','))\n",
        "d2=list(csv.reader(f2,delimiter=','))\n",
        "\n",
        "print(\"\\n\\nFile1 Contents:\",d1)\n",
        "print(\"\\n\\nFile2 Contents:\",d2)\n",
        "d3 = []\n",
        "for i in range(len(d1)):\n",
        "  d3.append(d1[i] + d2[i])\n",
        "\n",
        "print(d3)\n",
        "cw = csv.writer(f3)\n",
        "cw.writerows(d3)\n",
        "\n",
        "top_4_student(d3)\n",
        "\n",
        "f1.close()\n",
        "f2.close()\n",
        "f3.close()\n",
        "\n",
        "result=[]\n",
        "with open('/content/stud_result.csv',mode=\"r\")as file:\n",
        "  csvFile = csv.reader(file)\n",
        "\n",
        "  for lines in csvFile:\n",
        "    result.append(int(lines[3]))\n",
        "    print(\"Maximum\",max(result))\n",
        "    print(\"Minimum:\",min(result))\n",
        "    print(\"Total is : \",sum(result))\n",
        "    print(\"average is:\",sum(result)/len(result))"
      ]
    }
  ]
}